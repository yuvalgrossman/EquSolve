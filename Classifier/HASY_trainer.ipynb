{
  "nbformat": 4,
  "nbformat_minor": 0,
  "metadata": {
    "colab": {
      "name": "HASY_trainer.ipynb",
      "provenance": [],
      "toc_visible": true,
      "authorship_tag": "ABX9TyOCQixxKCXToJTC1gwP5CH3",
      "include_colab_link": true
    },
    "kernelspec": {
      "name": "python3",
      "display_name": "Python 3"
    },
    "accelerator": "GPU"
  },
  "cells": [
    {
      "cell_type": "markdown",
      "metadata": {
        "id": "view-in-github",
        "colab_type": "text"
      },
      "source": [
        "<a href=\"https://colab.research.google.com/github/yuvalgrossman/EquSolve/blob/master/Classifier/HASY_trainer.ipynb\" target=\"_parent\"><img src=\"https://colab.research.google.com/assets/colab-badge.svg\" alt=\"Open In Colab\"/></a>"
      ]
    },
    {
      "cell_type": "code",
      "metadata": {
        "id": "AAqqBRMGYo0X",
        "colab_type": "code",
        "colab": {
          "base_uri": "https://localhost:8080/",
          "height": 187
        },
        "outputId": "2859014c-9144-4f70-ad17-5aeacfd64396"
      },
      "source": [
        "import os\n",
        "%cd '/content/'\n",
        "if not os.path.isdir('EquSolve'):\n",
        "  !git clone http://github.com/yuvalgrossman/EquSolve\n",
        "  %cd EquSolve\n",
        "else:\n",
        "  %cd EquSolve\n",
        "  !git pull\n",
        "\n",
        "import datetime\n",
        "import matplotlib.pyplot as plt\n",
        "import pandas as pd\n",
        "import torch\n",
        "import torch.nn as nn\n",
        "import torch.optim as optim\n",
        "from torchvision import datasets, transforms\n",
        "from torch.utils.data import DataLoader\n",
        "from torchvision.transforms import transforms\n",
        "from tqdm import tqdm\n",
        "import webbrowser\n",
        "import time\n",
        "import pdb\n",
        "\n",
        "# project classes:\n",
        "from Classifier.HASYDataset import HASYDataset\n",
        "from Classifier.Net import Net\n",
        "from Utils.mapper import mapper"
      ],
      "execution_count": 1,
      "outputs": [
        {
          "output_type": "stream",
          "text": [
            "/content\n",
            "Cloning into 'EquSolve'...\n",
            "warning: redirecting to https://github.com/yuvalgrossman/EquSolve/\n",
            "remote: Enumerating objects: 282, done.\u001b[K\n",
            "remote: Counting objects: 100% (282/282), done.\u001b[K\n",
            "remote: Compressing objects: 100% (239/239), done.\u001b[K\n",
            "remote: Total 282 (delta 138), reused 98 (delta 33), pack-reused 0\u001b[K\n",
            "Receiving objects: 100% (282/282), 21.24 MiB | 31.16 MiB/s, done.\n",
            "Resolving deltas: 100% (138/138), done.\n",
            "/content/EquSolve\n"
          ],
          "name": "stdout"
        }
      ]
    },
    {
      "cell_type": "code",
      "metadata": {
        "id": "AdLVN95gtHvg",
        "colab_type": "code",
        "colab": {}
      },
      "source": [
        "class Trainer():\n",
        "    def __init__(self, config, transform):\n",
        "        self.config = config\n",
        "        self.device = self.get_device()\n",
        "        self.transform = transform\n",
        "\n",
        "        #create dir to save train results:\n",
        "        theTime = \"{date:%Y-%m-%d_%H-%M-%S}\".format(date=datetime.datetime.now())\n",
        "        self.Train_Results_Dir = 'Classifier/TrainResults/Train_Results_' + theTime\n",
        "        os.mkdir(self.Train_Results_Dir)\n",
        "\n",
        "        #create and open a webpage monitor: (we just replace one line in the html file to update the folder)\n",
        "        with open(\"Classifier/TrainResults/monitor_base.html\") as fin, open(\"Classifier/TrainResults/monitor.html\", 'w') as fout:\n",
        "            for line in fin:\n",
        "                lineout = line\n",
        "                if 'var results_folder' in line:\n",
        "                    lineout = 'var results_folder = \"Classifier/Train_Results_{}/\"'.format(theTime)\n",
        "                fout.write(lineout)\n",
        "\n",
        "        webbrowser.open(\"Classifier/TrainResults/monitor.html\")\n",
        "\n",
        "    def train(self):\n",
        "        # dataset should come as a tuple of (train_dataset,test_dataset)\n",
        "        dataset = self.download_dataset(self.config, self.transform)\n",
        "        train_data = dataset[0]\n",
        "        test_data  = dataset[1]\n",
        "\n",
        "        if self.config['state'] == 'HASY':\n",
        "          nClasses = train_data.dataset.data.symbol_id.value_counts().sort_index().tolist() # number of labels in each class\n",
        "          sample_weights = torch.tensor([1/n for n in nClasses])    \n",
        "          sampler = torch.utils.data.sampler.WeightedRandomSampler(sample_weights, len(sample_weights))   \n",
        "        else:\n",
        "          sampler = None                  \n",
        "\n",
        "        # move dataset to dataloader\n",
        "        trainloader = DataLoader(train_data, batch_size=self.config['batch_size'], sampler=sampler)\n",
        "        testloader = DataLoader(test_data, batch_size=self.config['batch_size'])\n",
        "        \n",
        "        # TRAINING CONFIGURATIONS:\n",
        "        net = Net().to(self.device)\n",
        "        print(net)\n",
        "\n",
        "        # loss\n",
        "        self.criterion = nn.CrossEntropyLoss()\n",
        "\n",
        "        # optimizer\n",
        "        self.optimizer = optim.SGD(net.parameters(), lr=self.config['lr'], momentum=self.config['momentum'])\n",
        "\n",
        "        # define tracking measures:\n",
        "        self.init_tracking_measures()\n",
        "\n",
        "        # apply network changes according to training state\n",
        "        if self.config['state'] == 'MNIST': # if training on MNIST\n",
        "            weights_save_path = self.config['weights_path'] + 'MNIST_weights.pth'\n",
        "\n",
        "        if self.config['state'] == 'HASY': # if training on HASY\n",
        "            weights_load_path = self.config['weights_path'] + 'MNIST_weights.pth'\n",
        "            weights_save_path = self.config['weights_path'] + 'HASY_weights.pth'\n",
        "\n",
        "            net.load_state_dict(torch.load(weights_load_path)['state_dict']) # load MNIST weights\n",
        "            net.fc3 = nn.Linear(84, len(self.config['sym_list'])).to(self.device)   # change model's last layer\n",
        "\n",
        "\n",
        "        # TRAINING:\n",
        "        print('Start Training on {}'.format(self.device))\n",
        "\n",
        "        for epochNum in range(self.config['train_epochs']):  # no. of epochs\n",
        "\n",
        "            net = self.train_epoch(net, trainloader, epochNum)\n",
        "\n",
        "            self.test_epoch(net, testloader, epochNum)\n",
        "\n",
        "            self.generate_measures_plots() # update figures after each epoch to observe during training\n",
        "\n",
        "        self.save_network(net, weights_save_path)\n",
        "\n",
        "        print('Done Training {} epochs'.format(epochNum+1))\n",
        "\n",
        "        self.generate_measures_plots()\n",
        "\n",
        "    def init_tracking_measures(self):\n",
        "        self.tracking_measures = {}\n",
        "        self.tracking_measures['batch_train_loss'] = []\n",
        "        self.tracking_measures['batch_train_acc'] = []\n",
        "        self.tracking_measures['epoch_train_loss'] = []\n",
        "        self.tracking_measures['epoch_train_acc'] = []\n",
        "        self.tracking_measures['epoch_test_loss'] = []\n",
        "        self.tracking_measures['epoch_test_acc'] = []\n",
        "\n",
        "    def generate_measures_plots(self):\n",
        "        for key, value in self.tracking_measures.items():\n",
        "            fig, ax = plt.subplots(figsize=(10, 5))\n",
        "            ax.plot(value)\n",
        "            ax.set_title(key)\n",
        "            plt.grid()\n",
        "            fn = os.path.join(self.Train_Results_Dir,'{}.png'.format(key))\n",
        "            plt.savefig(fn)\n",
        "            plt.close()\n",
        "\n",
        "    def train_epoch(self, net, trainloader, epoch):\n",
        "\n",
        "        epoch_loss = 0\n",
        "        epoch_acc = 0\n",
        "        net.train()\n",
        "        \n",
        "        for data in tqdm(trainloader):\n",
        "            # data pixels and labels to GPU if available\n",
        "            inputs, labels = data[0].to(self.device, non_blocking=True), data[1].to(self.device, non_blocking=True)\n",
        "            # set the parameter gradients to zero\n",
        "            self.optimizer.zero_grad()\n",
        "            outputs = net(inputs)\n",
        "            # print(outputs.shape, labels.shape)\n",
        "            loss = self.criterion(outputs, labels)\n",
        "            # propagate the loss backward\n",
        "            loss.backward()\n",
        "            # update the gradients\n",
        "            self.optimizer.step()\n",
        "\n",
        "            batch_loss = loss.item()\n",
        "            epoch_loss += batch_loss\n",
        "            self.tracking_measures['batch_train_loss'].append(batch_loss)\n",
        "\n",
        "            _, predicted = torch.max(outputs.data, 1)\n",
        "            batch_acc = (predicted == labels).sum().item()/len(predicted)\n",
        "            epoch_acc += batch_acc\n",
        "            self.tracking_measures['batch_train_acc'].append(batch_acc)\n",
        "\n",
        "        epoch_loss /= len(trainloader)\n",
        "        epoch_acc /= len(trainloader)\n",
        "        print('Train Epoch {} loss: {:.3f} acc: {:.3f}'.format(epoch + 1, epoch_loss, epoch_acc))\n",
        "        self.tracking_measures['epoch_train_loss'].append(epoch_loss)\n",
        "        self.tracking_measures['epoch_train_acc'].append(epoch_acc)\n",
        "\n",
        "        return net\n",
        "\n",
        "\n",
        "    def test_epoch(self, net, testloader, epoch):       \n",
        "        correct = 0\n",
        "        total = 0\n",
        "        epoch_loss = 0\n",
        "        epoch_acc = 0\n",
        "\n",
        "        net.eval()\n",
        "        with torch.no_grad():\n",
        "            for data in testloader:\n",
        "\n",
        "                inputs, labels = data[0].to(self.device, non_blocking=True), data[1].to(self.device, non_blocking=True)\n",
        "                outputs = net(inputs)\n",
        "                loss = self.criterion(outputs, labels)\n",
        "\n",
        "                # total += labels.size(0)\n",
        "                # correct += (predicted == labels).sum().item()\n",
        "\n",
        "                batch_loss = loss.item()\n",
        "                epoch_loss += batch_loss\n",
        "\n",
        "                _, predicted = torch.max(outputs.data, 1)\n",
        "                batch_acc = (predicted == labels).sum().item()/len(predicted)\n",
        "                epoch_acc += batch_acc\n",
        "\n",
        "        # print('Accuracy of the network on test images: %0.3f %%' % (\n",
        "        #         100 * correct / total))\n",
        "        epoch_loss /= len(testloader)\n",
        "        epoch_acc /= len(testloader)\n",
        "        print('Test Epoch {} loss: {:.3f} acc: {:.3f}'.format(epoch + 1, epoch_loss, epoch_acc))\n",
        "        self.tracking_measures['epoch_test_loss'].append(epoch_loss)\n",
        "        self.tracking_measures['epoch_test_acc'].append(epoch_acc)\n",
        "\n",
        "    def get_device(self):\n",
        "        if torch.cuda.is_available():\n",
        "            device = 'cuda:0'\n",
        "        else:\n",
        "            device = 'cpu'\n",
        "        return device\n",
        "\n",
        "    def save_network(self, net, weights_save_path):\n",
        "        saved_dict = {'state_dict': net.state_dict()}\n",
        "        # add custom data to the saved file:\n",
        "        saved_dict['train_measures'] = self.tracking_measures\n",
        "        saved_dict['config'] = self.config\n",
        "        # saved_dict['class2sym_mapper'] = class2sym_mapper\n",
        "\n",
        "        fn = os.path.join(self.Train_Results_Dir,self.config['state'] +'.pth')\n",
        "        torch.save(saved_dict, fn)\n",
        "        print('save model in ' + fn)\n",
        "\n",
        "        fn = weights_save_path\n",
        "        torch.save(saved_dict, fn)\n",
        "        print('save model in ' + fn)\n",
        "\n",
        "    def download_dataset(self,config, transform):\n",
        "      if config['state'] == 'MNIST':\n",
        "        import torchvision\n",
        "        train_dataset = torchvision.datasets.MNIST(config['data_path'], train=True, download=True,\n",
        "                              transform=transform)\n",
        "        test_dataset = torchvision.datasets.MNIST(config['data_path'], train=False, download=True,\n",
        "                              transform=transform)                      \n",
        "\n",
        "\n",
        "      if config['state'] == 'HASY':\n",
        "        if not os.path.exists(config['data_path'] + 'hasy-data'): # download data  \n",
        "          import tarfile\n",
        "          import requests    \n",
        "          url = 'https://zenodo.org/record/259444/files/HASYv2.tar.bz2?download=1'\n",
        "          out = config['data_path'] + 'HASYv2.tar'\n",
        "          print('Downloading HASY dataset')\n",
        "          r = requests.get(url)\n",
        "          with open(out, 'wb') as f:\n",
        "              f.write(r.content)\n",
        "          \n",
        "          my_tar = tarfile.open(out)\n",
        "          print('Extracting dataset')\n",
        "          my_tar.extractall(config['data_path'])  # specify which folder to extract to\n",
        "          my_tar.close()\n",
        "          print('Done extracting')\n",
        "          \n",
        "        meta_data = pd.read_csv(config['data_path'] + 'hasy-data-labels.csv')\n",
        "        # here we concatenate all_df with equal sign df\n",
        "        all_df = mapper(meta_data,config['sym_list']) # slice only needed symbols\n",
        "        print(all_df.latex.value_counts())\n",
        "\n",
        "        dataset = HASYDataset(config,all_df,transform) # read data into dataset\n",
        "        train_size = int(config['HASY_train_split'] * len(dataset))\n",
        "        test_size = len(dataset) - train_size\n",
        "        train_dataset, test_dataset = torch.utils.data.random_split(dataset,\n",
        "                                                                    [train_size, test_size]) # split dataset to train and test\n",
        "\n",
        "      return (train_dataset,test_dataset)\n"
      ],
      "execution_count": 2,
      "outputs": []
    },
    {
      "cell_type": "code",
      "metadata": {
        "id": "x-kQ0Wq7WcYN",
        "colab_type": "code",
        "colab": {}
      },
      "source": [
        ""
      ],
      "execution_count": 2,
      "outputs": []
    },
    {
      "cell_type": "code",
      "metadata": {
        "id": "1d-i9rM4yaYa",
        "colab_type": "code",
        "colab": {
          "base_uri": "https://localhost:8080/",
          "height": 493
        },
        "outputId": "f766b75a-ca04-4934-8e5b-a81f1b07520a"
      },
      "source": [
        "inner_path = ''\n",
        "config = {}\n",
        "config['inner_path'] = inner_path\n",
        "config['data_path'] = inner_path + 'DataSets/'\n",
        "config['weights_path'] = inner_path + 'Classifier/weights/'\n",
        "config['train_data_path'] = 'classification-task/fold-1/train.csv'\n",
        "config['test_data_path']  = 'classification-task/fold-1/test.csv'\n",
        "config['batch_size'] = 128\n",
        "config['train_epochs'] = 5\n",
        "config['lr'] = 0.01\n",
        "config['momentum'] = 0.9 \n",
        "config['state'] = 'MNIST'\n",
        "\n",
        "\n",
        "transform = transforms.Compose([transforms.ToTensor(),\n",
        "                              transforms.Normalize(0.5,0.5),\n",
        "                              ])\n",
        "\n",
        "theTrainer = Trainer(config, transform)\n",
        "\n",
        "tic = time.time()\n",
        "theTrainer.train()\n",
        "print('Proccess took {:.2f} m.'.format((time.time() - tic)/60))"
      ],
      "execution_count": 4,
      "outputs": [
        {
          "output_type": "stream",
          "text": [
            "  0%|          | 1/469 [00:00<01:32,  5.05it/s]"
          ],
          "name": "stderr"
        },
        {
          "output_type": "stream",
          "text": [
            "Net(\n",
            "  (conv1): Conv2d(1, 6, kernel_size=(5, 5), stride=(1, 1))\n",
            "  (pool): MaxPool2d(kernel_size=2, stride=2, padding=0, dilation=1, ceil_mode=False)\n",
            "  (conv2): Conv2d(6, 16, kernel_size=(5, 5), stride=(1, 1))\n",
            "  (fc1): Linear(in_features=256, out_features=120, bias=True)\n",
            "  (fc2): Linear(in_features=120, out_features=84, bias=True)\n",
            "  (fc3): Linear(in_features=84, out_features=10, bias=True)\n",
            ")\n",
            "Start Training on cuda:0\n"
          ],
          "name": "stdout"
        },
        {
          "output_type": "stream",
          "text": [
            "100%|██████████| 469/469 [00:09<00:00, 51.31it/s]\n"
          ],
          "name": "stderr"
        },
        {
          "output_type": "stream",
          "text": [
            "Train Epoch 1 loss: 0.678 acc: 0.786\n",
            "Test Epoch 1 loss: 0.149 acc: 0.949\n"
          ],
          "name": "stdout"
        },
        {
          "output_type": "stream",
          "text": [
            "100%|██████████| 469/469 [00:09<00:00, 51.99it/s]\n"
          ],
          "name": "stderr"
        },
        {
          "output_type": "stream",
          "text": [
            "Train Epoch 2 loss: 0.103 acc: 0.967\n",
            "Test Epoch 2 loss: 0.069 acc: 0.977\n"
          ],
          "name": "stdout"
        },
        {
          "output_type": "stream",
          "text": [
            "100%|██████████| 469/469 [00:08<00:00, 52.56it/s]\n"
          ],
          "name": "stderr"
        },
        {
          "output_type": "stream",
          "text": [
            "Train Epoch 3 loss: 0.068 acc: 0.979\n",
            "Test Epoch 3 loss: 0.053 acc: 0.983\n"
          ],
          "name": "stdout"
        },
        {
          "output_type": "stream",
          "text": [
            "100%|██████████| 469/469 [00:09<00:00, 51.27it/s]\n"
          ],
          "name": "stderr"
        },
        {
          "output_type": "stream",
          "text": [
            "Train Epoch 4 loss: 0.054 acc: 0.984\n",
            "Test Epoch 4 loss: 0.048 acc: 0.984\n"
          ],
          "name": "stdout"
        },
        {
          "output_type": "stream",
          "text": [
            "100%|██████████| 469/469 [00:08<00:00, 52.57it/s]\n"
          ],
          "name": "stderr"
        },
        {
          "output_type": "stream",
          "text": [
            "Train Epoch 5 loss: 0.045 acc: 0.986\n",
            "Test Epoch 5 loss: 0.045 acc: 0.986\n",
            "save model in Classifier/TrainResults/Train_Results_2020-09-01_16-24-15/MNIST.pth\n",
            "save model in Classifier/weights/MNIST_weights.pth\n",
            "Done Training 5 epochs\n",
            "Proccess took 0.92 m.\n"
          ],
          "name": "stdout"
        }
      ]
    },
    {
      "cell_type": "code",
      "metadata": {
        "id": "Sxu9La5H0l8l",
        "colab_type": "code",
        "colab": {
          "base_uri": "https://localhost:8080/",
          "height": 1000
        },
        "outputId": "f5eda34e-8ccf-4e9e-bee6-b24240589db8"
      },
      "source": [
        "config['state'] = 'HASY'\n",
        "config['train_epochs'] = 30\n",
        "config['sym_list'] = ['0','1','2','3','4','5','6','7','8','9',\n",
        "                      '\\\\alpha','+','-','\\\\pi','A','X','\\\\cdot']\n",
        "config['HASY_train_split'] = 0.8\n",
        "\n",
        "transform = transforms.Compose([transforms.Resize([28,28]),                                \n",
        "                      transforms.ToTensor(),\n",
        "                      transforms.Normalize(0.5,0.5),\n",
        "                      ])\n",
        "\n",
        "theTrainer = Trainer(config, transform)\n",
        "\n",
        "tic = time.time()\n",
        "theTrainer.train()\n",
        "print('Proccess took {:.2f} m.'.format((time.time() - tic)/60))"
      ],
      "execution_count": 5,
      "outputs": [
        {
          "output_type": "stream",
          "text": [
            "Downloading HASY dataset\n",
            "Extracting dataset\n",
            "Done extracting\n",
            "\\alpha    2601\n",
            "\\pi       1533\n",
            "\\cdot      755\n",
            "A          159\n",
            "0          133\n",
            "2          124\n",
            "8          121\n",
            "3          120\n",
            "-          118\n",
            "1          118\n",
            "6          100\n",
            "+           90\n",
            "9           90\n",
            "5           78\n",
            "7           75\n",
            "4           61\n",
            "X           54\n",
            "Name: latex, dtype: int64\n"
          ],
          "name": "stdout"
        },
        {
          "output_type": "stream",
          "text": [
            "100%|██████████| 1/1 [00:00<00:00, 35.43it/s]"
          ],
          "name": "stderr"
        },
        {
          "output_type": "stream",
          "text": [
            "Net(\n",
            "  (conv1): Conv2d(1, 6, kernel_size=(5, 5), stride=(1, 1))\n",
            "  (pool): MaxPool2d(kernel_size=2, stride=2, padding=0, dilation=1, ceil_mode=False)\n",
            "  (conv2): Conv2d(6, 16, kernel_size=(5, 5), stride=(1, 1))\n",
            "  (fc1): Linear(in_features=256, out_features=120, bias=True)\n",
            "  (fc2): Linear(in_features=120, out_features=84, bias=True)\n",
            "  (fc3): Linear(in_features=84, out_features=10, bias=True)\n",
            ")\n",
            "Start Training on cuda:0\n",
            "Train Epoch 1 loss: 2.974 acc: 0.000\n"
          ],
          "name": "stdout"
        },
        {
          "output_type": "stream",
          "text": [
            "\n"
          ],
          "name": "stderr"
        },
        {
          "output_type": "stream",
          "text": [
            "Test Epoch 1 loss: 3.050 acc: 0.017\n"
          ],
          "name": "stdout"
        },
        {
          "output_type": "stream",
          "text": [
            "100%|██████████| 1/1 [00:00<00:00, 70.35it/s]\n"
          ],
          "name": "stderr"
        },
        {
          "output_type": "stream",
          "text": [
            "Train Epoch 2 loss: 3.043 acc: 0.000\n",
            "Test Epoch 2 loss: 2.918 acc: 0.059\n"
          ],
          "name": "stdout"
        },
        {
          "output_type": "stream",
          "text": [
            "100%|██████████| 1/1 [00:00<00:00, 85.48it/s]\n"
          ],
          "name": "stderr"
        },
        {
          "output_type": "stream",
          "text": [
            "Train Epoch 3 loss: 2.461 acc: 0.294\n",
            "Test Epoch 3 loss: 2.770 acc: 0.152\n"
          ],
          "name": "stdout"
        },
        {
          "output_type": "stream",
          "text": [
            "100%|██████████| 1/1 [00:00<00:00, 66.05it/s]\n"
          ],
          "name": "stderr"
        },
        {
          "output_type": "stream",
          "text": [
            "Train Epoch 4 loss: 2.221 acc: 0.471\n",
            "Test Epoch 4 loss: 2.619 acc: 0.206\n"
          ],
          "name": "stdout"
        },
        {
          "output_type": "stream",
          "text": [
            "100%|██████████| 1/1 [00:00<00:00, 63.92it/s]\n"
          ],
          "name": "stderr"
        },
        {
          "output_type": "stream",
          "text": [
            "Train Epoch 5 loss: 2.044 acc: 0.529\n",
            "Test Epoch 5 loss: 2.483 acc: 0.252\n"
          ],
          "name": "stdout"
        },
        {
          "output_type": "stream",
          "text": [
            "100%|██████████| 1/1 [00:00<00:00, 66.40it/s]\n"
          ],
          "name": "stderr"
        },
        {
          "output_type": "stream",
          "text": [
            "Train Epoch 6 loss: 1.773 acc: 0.588\n",
            "Test Epoch 6 loss: 2.388 acc: 0.282\n"
          ],
          "name": "stdout"
        },
        {
          "output_type": "stream",
          "text": [
            "100%|██████████| 1/1 [00:00<00:00, 70.66it/s]\n"
          ],
          "name": "stderr"
        },
        {
          "output_type": "stream",
          "text": [
            "Train Epoch 7 loss: 1.556 acc: 0.529\n",
            "Test Epoch 7 loss: 2.317 acc: 0.306\n"
          ],
          "name": "stdout"
        },
        {
          "output_type": "stream",
          "text": [
            "100%|██████████| 1/1 [00:00<00:00, 79.72it/s]\n"
          ],
          "name": "stderr"
        },
        {
          "output_type": "stream",
          "text": [
            "Train Epoch 8 loss: 0.949 acc: 0.706\n",
            "Test Epoch 8 loss: 2.325 acc: 0.314\n"
          ],
          "name": "stdout"
        },
        {
          "output_type": "stream",
          "text": [
            "100%|██████████| 1/1 [00:00<00:00, 76.14it/s]\n"
          ],
          "name": "stderr"
        },
        {
          "output_type": "stream",
          "text": [
            "Train Epoch 9 loss: 0.747 acc: 0.824\n",
            "Test Epoch 9 loss: 2.385 acc: 0.317\n"
          ],
          "name": "stdout"
        },
        {
          "output_type": "stream",
          "text": [
            "100%|██████████| 1/1 [00:00<00:00, 67.51it/s]\n"
          ],
          "name": "stderr"
        },
        {
          "output_type": "stream",
          "text": [
            "Train Epoch 10 loss: 1.446 acc: 0.471\n",
            "Test Epoch 10 loss: 2.461 acc: 0.317\n"
          ],
          "name": "stdout"
        },
        {
          "output_type": "stream",
          "text": [
            "100%|██████████| 1/1 [00:00<00:00, 68.59it/s]\n"
          ],
          "name": "stderr"
        },
        {
          "output_type": "stream",
          "text": [
            "Train Epoch 11 loss: 0.953 acc: 0.588\n",
            "Test Epoch 11 loss: 2.486 acc: 0.339\n"
          ],
          "name": "stdout"
        },
        {
          "output_type": "stream",
          "text": [
            "100%|██████████| 1/1 [00:00<00:00, 69.76it/s]\n"
          ],
          "name": "stderr"
        },
        {
          "output_type": "stream",
          "text": [
            "Train Epoch 12 loss: 0.700 acc: 0.647\n",
            "Test Epoch 12 loss: 2.454 acc: 0.402\n"
          ],
          "name": "stdout"
        },
        {
          "output_type": "stream",
          "text": [
            "100%|██████████| 1/1 [00:00<00:00, 74.79it/s]\n"
          ],
          "name": "stderr"
        },
        {
          "output_type": "stream",
          "text": [
            "Train Epoch 13 loss: 1.500 acc: 0.647\n",
            "Test Epoch 13 loss: 2.315 acc: 0.498\n"
          ],
          "name": "stdout"
        },
        {
          "output_type": "stream",
          "text": [
            "100%|██████████| 1/1 [00:00<00:00, 65.21it/s]\n"
          ],
          "name": "stderr"
        },
        {
          "output_type": "stream",
          "text": [
            "Train Epoch 14 loss: 0.610 acc: 0.765\n",
            "Test Epoch 14 loss: 2.229 acc: 0.533\n"
          ],
          "name": "stdout"
        },
        {
          "output_type": "stream",
          "text": [
            "100%|██████████| 1/1 [00:00<00:00, 71.32it/s]\n"
          ],
          "name": "stderr"
        },
        {
          "output_type": "stream",
          "text": [
            "Train Epoch 15 loss: 1.162 acc: 0.647\n",
            "Test Epoch 15 loss: 2.179 acc: 0.528\n"
          ],
          "name": "stdout"
        },
        {
          "output_type": "stream",
          "text": [
            "100%|██████████| 1/1 [00:00<00:00, 67.03it/s]\n"
          ],
          "name": "stderr"
        },
        {
          "output_type": "stream",
          "text": [
            "Train Epoch 16 loss: 0.552 acc: 0.882\n",
            "Test Epoch 16 loss: 2.191 acc: 0.509\n"
          ],
          "name": "stdout"
        },
        {
          "output_type": "stream",
          "text": [
            "100%|██████████| 1/1 [00:00<00:00, 70.53it/s]\n"
          ],
          "name": "stderr"
        },
        {
          "output_type": "stream",
          "text": [
            "Train Epoch 17 loss: 1.028 acc: 0.647\n",
            "Test Epoch 17 loss: 2.215 acc: 0.483\n"
          ],
          "name": "stdout"
        },
        {
          "output_type": "stream",
          "text": [
            "100%|██████████| 1/1 [00:00<00:00, 63.82it/s]\n"
          ],
          "name": "stderr"
        },
        {
          "output_type": "stream",
          "text": [
            "Train Epoch 18 loss: 0.538 acc: 0.882\n",
            "Test Epoch 18 loss: 2.235 acc: 0.467\n"
          ],
          "name": "stdout"
        },
        {
          "output_type": "stream",
          "text": [
            "100%|██████████| 1/1 [00:00<00:00, 73.99it/s]\n"
          ],
          "name": "stderr"
        },
        {
          "output_type": "stream",
          "text": [
            "Train Epoch 19 loss: 0.418 acc: 0.882\n",
            "Test Epoch 19 loss: 2.242 acc: 0.462\n"
          ],
          "name": "stdout"
        },
        {
          "output_type": "stream",
          "text": [
            "100%|██████████| 1/1 [00:00<00:00, 60.64it/s]\n"
          ],
          "name": "stderr"
        },
        {
          "output_type": "stream",
          "text": [
            "Train Epoch 20 loss: 0.407 acc: 0.882\n",
            "Test Epoch 20 loss: 2.227 acc: 0.463\n"
          ],
          "name": "stdout"
        },
        {
          "output_type": "stream",
          "text": [
            "100%|██████████| 1/1 [00:00<00:00, 70.23it/s]\n"
          ],
          "name": "stderr"
        },
        {
          "output_type": "stream",
          "text": [
            "Train Epoch 21 loss: 0.274 acc: 0.765\n",
            "Test Epoch 21 loss: 2.187 acc: 0.485\n"
          ],
          "name": "stdout"
        },
        {
          "output_type": "stream",
          "text": [
            "100%|██████████| 1/1 [00:00<00:00, 58.70it/s]\n"
          ],
          "name": "stderr"
        },
        {
          "output_type": "stream",
          "text": [
            "Train Epoch 22 loss: 0.346 acc: 0.882\n",
            "Test Epoch 22 loss: 2.163 acc: 0.503\n"
          ],
          "name": "stdout"
        },
        {
          "output_type": "stream",
          "text": [
            "100%|██████████| 1/1 [00:00<00:00, 70.94it/s]\n"
          ],
          "name": "stderr"
        },
        {
          "output_type": "stream",
          "text": [
            "Train Epoch 23 loss: 0.343 acc: 0.941\n",
            "Test Epoch 23 loss: 2.156 acc: 0.515\n"
          ],
          "name": "stdout"
        },
        {
          "output_type": "stream",
          "text": [
            "100%|██████████| 1/1 [00:00<00:00, 80.51it/s]\n"
          ],
          "name": "stderr"
        },
        {
          "output_type": "stream",
          "text": [
            "Train Epoch 24 loss: 0.220 acc: 0.941\n",
            "Test Epoch 24 loss: 2.166 acc: 0.524\n"
          ],
          "name": "stdout"
        },
        {
          "output_type": "stream",
          "text": [
            "100%|██████████| 1/1 [00:00<00:00, 82.95it/s]\n"
          ],
          "name": "stderr"
        },
        {
          "output_type": "stream",
          "text": [
            "Train Epoch 25 loss: 0.298 acc: 0.882\n",
            "Test Epoch 25 loss: 2.186 acc: 0.526\n"
          ],
          "name": "stdout"
        },
        {
          "output_type": "stream",
          "text": [
            "100%|██████████| 1/1 [00:00<00:00, 62.13it/s]\n"
          ],
          "name": "stderr"
        },
        {
          "output_type": "stream",
          "text": [
            "Train Epoch 26 loss: 0.146 acc: 0.941\n",
            "Test Epoch 26 loss: 2.212 acc: 0.529\n"
          ],
          "name": "stdout"
        },
        {
          "output_type": "stream",
          "text": [
            "100%|██████████| 1/1 [00:00<00:00, 79.94it/s]\n"
          ],
          "name": "stderr"
        },
        {
          "output_type": "stream",
          "text": [
            "Train Epoch 27 loss: 0.201 acc: 0.941\n",
            "Test Epoch 27 loss: 2.244 acc: 0.630\n"
          ],
          "name": "stdout"
        },
        {
          "output_type": "stream",
          "text": [
            "100%|██████████| 1/1 [00:00<00:00, 76.75it/s]\n"
          ],
          "name": "stderr"
        },
        {
          "output_type": "stream",
          "text": [
            "Train Epoch 28 loss: 0.240 acc: 1.000\n",
            "Test Epoch 28 loss: 2.279 acc: 0.629\n"
          ],
          "name": "stdout"
        },
        {
          "output_type": "stream",
          "text": [
            "100%|██████████| 1/1 [00:00<00:00, 62.72it/s]\n"
          ],
          "name": "stderr"
        },
        {
          "output_type": "stream",
          "text": [
            "Train Epoch 29 loss: 0.313 acc: 0.765\n",
            "Test Epoch 29 loss: 2.299 acc: 0.629\n"
          ],
          "name": "stdout"
        },
        {
          "output_type": "stream",
          "text": [
            "100%|██████████| 1/1 [00:00<00:00, 69.41it/s]\n"
          ],
          "name": "stderr"
        },
        {
          "output_type": "stream",
          "text": [
            "Train Epoch 30 loss: 0.161 acc: 1.000\n",
            "Test Epoch 30 loss: 2.315 acc: 0.631\n"
          ],
          "name": "stdout"
        },
        {
          "output_type": "stream",
          "text": [
            "100%|██████████| 1/1 [00:00<00:00, 86.09it/s]\n"
          ],
          "name": "stderr"
        },
        {
          "output_type": "stream",
          "text": [
            "Train Epoch 31 loss: 0.038 acc: 1.000\n",
            "Test Epoch 31 loss: 2.336 acc: 0.630\n"
          ],
          "name": "stdout"
        },
        {
          "output_type": "stream",
          "text": [
            "100%|██████████| 1/1 [00:00<00:00, 70.52it/s]\n"
          ],
          "name": "stderr"
        },
        {
          "output_type": "stream",
          "text": [
            "Train Epoch 32 loss: 0.127 acc: 1.000\n",
            "Test Epoch 32 loss: 2.357 acc: 0.631\n"
          ],
          "name": "stdout"
        },
        {
          "output_type": "stream",
          "text": [
            "100%|██████████| 1/1 [00:00<00:00, 74.98it/s]\n"
          ],
          "name": "stderr"
        },
        {
          "output_type": "stream",
          "text": [
            "Train Epoch 33 loss: 0.078 acc: 1.000\n",
            "Test Epoch 33 loss: 2.379 acc: 0.632\n"
          ],
          "name": "stdout"
        },
        {
          "output_type": "stream",
          "text": [
            "100%|██████████| 1/1 [00:00<00:00, 75.26it/s]\n"
          ],
          "name": "stderr"
        },
        {
          "output_type": "stream",
          "text": [
            "Train Epoch 34 loss: 0.133 acc: 1.000\n",
            "Test Epoch 34 loss: 2.399 acc: 0.630\n"
          ],
          "name": "stdout"
        },
        {
          "output_type": "stream",
          "text": [
            "100%|██████████| 1/1 [00:00<00:00, 64.83it/s]\n"
          ],
          "name": "stderr"
        },
        {
          "output_type": "stream",
          "text": [
            "Train Epoch 35 loss: 0.141 acc: 1.000\n",
            "Test Epoch 35 loss: 2.420 acc: 0.628\n"
          ],
          "name": "stdout"
        },
        {
          "output_type": "stream",
          "text": [
            "100%|██████████| 1/1 [00:00<00:00, 70.41it/s]\n"
          ],
          "name": "stderr"
        },
        {
          "output_type": "stream",
          "text": [
            "Train Epoch 36 loss: 0.036 acc: 1.000\n",
            "Test Epoch 36 loss: 2.442 acc: 0.624\n"
          ],
          "name": "stdout"
        },
        {
          "output_type": "stream",
          "text": [
            "100%|██████████| 1/1 [00:00<00:00, 74.63it/s]\n"
          ],
          "name": "stderr"
        },
        {
          "output_type": "stream",
          "text": [
            "Train Epoch 37 loss: 0.031 acc: 1.000\n",
            "Test Epoch 37 loss: 2.467 acc: 0.623\n"
          ],
          "name": "stdout"
        },
        {
          "output_type": "stream",
          "text": [
            "100%|██████████| 1/1 [00:00<00:00, 57.49it/s]\n"
          ],
          "name": "stderr"
        },
        {
          "output_type": "stream",
          "text": [
            "Train Epoch 38 loss: 0.015 acc: 1.000\n",
            "Test Epoch 38 loss: 2.493 acc: 0.620\n"
          ],
          "name": "stdout"
        },
        {
          "output_type": "stream",
          "text": [
            "100%|██████████| 1/1 [00:00<00:00, 62.13it/s]\n"
          ],
          "name": "stderr"
        },
        {
          "output_type": "stream",
          "text": [
            "Train Epoch 39 loss: 0.079 acc: 1.000\n",
            "Test Epoch 39 loss: 2.520 acc: 0.621\n"
          ],
          "name": "stdout"
        },
        {
          "output_type": "stream",
          "text": [
            "100%|██████████| 1/1 [00:00<00:00, 66.71it/s]\n"
          ],
          "name": "stderr"
        },
        {
          "output_type": "stream",
          "text": [
            "Train Epoch 40 loss: 0.055 acc: 1.000\n",
            "Test Epoch 40 loss: 2.548 acc: 0.617\n"
          ],
          "name": "stdout"
        },
        {
          "output_type": "stream",
          "text": [
            "100%|██████████| 1/1 [00:00<00:00, 83.19it/s]\n"
          ],
          "name": "stderr"
        },
        {
          "output_type": "stream",
          "text": [
            "Train Epoch 41 loss: 0.013 acc: 1.000\n",
            "Test Epoch 41 loss: 2.575 acc: 0.618\n"
          ],
          "name": "stdout"
        },
        {
          "output_type": "stream",
          "text": [
            "100%|██████████| 1/1 [00:00<00:00, 69.83it/s]\n"
          ],
          "name": "stderr"
        },
        {
          "output_type": "stream",
          "text": [
            "Train Epoch 42 loss: 0.032 acc: 1.000\n",
            "Test Epoch 42 loss: 2.602 acc: 0.613\n"
          ],
          "name": "stdout"
        },
        {
          "output_type": "stream",
          "text": [
            "100%|██████████| 1/1 [00:00<00:00, 69.52it/s]\n"
          ],
          "name": "stderr"
        },
        {
          "output_type": "stream",
          "text": [
            "Train Epoch 43 loss: 0.019 acc: 1.000\n",
            "Test Epoch 43 loss: 2.628 acc: 0.612\n"
          ],
          "name": "stdout"
        },
        {
          "output_type": "stream",
          "text": [
            "100%|██████████| 1/1 [00:00<00:00, 69.64it/s]\n"
          ],
          "name": "stderr"
        },
        {
          "output_type": "stream",
          "text": [
            "Train Epoch 44 loss: 0.024 acc: 1.000\n",
            "Test Epoch 44 loss: 2.652 acc: 0.611\n"
          ],
          "name": "stdout"
        },
        {
          "output_type": "stream",
          "text": [
            "100%|██████████| 1/1 [00:00<00:00, 66.04it/s]\n"
          ],
          "name": "stderr"
        },
        {
          "output_type": "stream",
          "text": [
            "Train Epoch 45 loss: 0.009 acc: 1.000\n",
            "Test Epoch 45 loss: 2.675 acc: 0.606\n"
          ],
          "name": "stdout"
        },
        {
          "output_type": "stream",
          "text": [
            "100%|██████████| 1/1 [00:00<00:00, 74.98it/s]\n"
          ],
          "name": "stderr"
        },
        {
          "output_type": "stream",
          "text": [
            "Train Epoch 46 loss: 0.019 acc: 1.000\n",
            "Test Epoch 46 loss: 2.698 acc: 0.605\n"
          ],
          "name": "stdout"
        },
        {
          "output_type": "stream",
          "text": [
            "100%|██████████| 1/1 [00:00<00:00, 70.41it/s]\n"
          ],
          "name": "stderr"
        },
        {
          "output_type": "stream",
          "text": [
            "Train Epoch 47 loss: 0.017 acc: 1.000\n",
            "Test Epoch 47 loss: 2.719 acc: 0.603\n"
          ],
          "name": "stdout"
        },
        {
          "output_type": "stream",
          "text": [
            "100%|██████████| 1/1 [00:00<00:00, 70.13it/s]\n"
          ],
          "name": "stderr"
        },
        {
          "output_type": "stream",
          "text": [
            "Train Epoch 48 loss: 0.019 acc: 1.000\n",
            "Test Epoch 48 loss: 2.740 acc: 0.603\n"
          ],
          "name": "stdout"
        },
        {
          "output_type": "stream",
          "text": [
            "100%|██████████| 1/1 [00:00<00:00, 88.86it/s]\n"
          ],
          "name": "stderr"
        },
        {
          "output_type": "stream",
          "text": [
            "Train Epoch 49 loss: 0.026 acc: 1.000\n",
            "Test Epoch 49 loss: 2.760 acc: 0.602\n"
          ],
          "name": "stdout"
        },
        {
          "output_type": "stream",
          "text": [
            "100%|██████████| 1/1 [00:00<00:00, 67.99it/s]\n"
          ],
          "name": "stderr"
        },
        {
          "output_type": "stream",
          "text": [
            "Train Epoch 50 loss: 0.047 acc: 1.000\n",
            "Test Epoch 50 loss: 2.779 acc: 0.604\n"
          ],
          "name": "stdout"
        },
        {
          "output_type": "stream",
          "text": [
            "100%|██████████| 1/1 [00:00<00:00, 68.86it/s]\n"
          ],
          "name": "stderr"
        },
        {
          "output_type": "stream",
          "text": [
            "Train Epoch 51 loss: 0.035 acc: 1.000\n",
            "Test Epoch 51 loss: 2.800 acc: 0.606\n"
          ],
          "name": "stdout"
        },
        {
          "output_type": "stream",
          "text": [
            "100%|██████████| 1/1 [00:00<00:00, 76.40it/s]\n"
          ],
          "name": "stderr"
        },
        {
          "output_type": "stream",
          "text": [
            "Train Epoch 52 loss: 0.023 acc: 1.000\n",
            "Test Epoch 52 loss: 2.822 acc: 0.606\n"
          ],
          "name": "stdout"
        },
        {
          "output_type": "stream",
          "text": [
            "100%|██████████| 1/1 [00:00<00:00, 71.46it/s]\n"
          ],
          "name": "stderr"
        },
        {
          "output_type": "stream",
          "text": [
            "Train Epoch 53 loss: 0.005 acc: 1.000\n",
            "Test Epoch 53 loss: 2.844 acc: 0.606\n"
          ],
          "name": "stdout"
        },
        {
          "output_type": "stream",
          "text": [
            "100%|██████████| 1/1 [00:00<00:00, 87.27it/s]\n"
          ],
          "name": "stderr"
        },
        {
          "output_type": "stream",
          "text": [
            "Train Epoch 54 loss: 0.013 acc: 1.000\n",
            "Test Epoch 54 loss: 2.868 acc: 0.607\n"
          ],
          "name": "stdout"
        },
        {
          "output_type": "stream",
          "text": [
            "100%|██████████| 1/1 [00:00<00:00, 83.87it/s]\n"
          ],
          "name": "stderr"
        },
        {
          "output_type": "stream",
          "text": [
            "Train Epoch 55 loss: 0.006 acc: 1.000\n",
            "Test Epoch 55 loss: 2.889 acc: 0.608\n"
          ],
          "name": "stdout"
        },
        {
          "output_type": "stream",
          "text": [
            "100%|██████████| 1/1 [00:00<00:00, 70.73it/s]\n"
          ],
          "name": "stderr"
        },
        {
          "output_type": "stream",
          "text": [
            "Train Epoch 56 loss: 0.008 acc: 1.000\n",
            "Test Epoch 56 loss: 2.910 acc: 0.607\n"
          ],
          "name": "stdout"
        },
        {
          "output_type": "stream",
          "text": [
            "100%|██████████| 1/1 [00:00<00:00, 66.38it/s]\n"
          ],
          "name": "stderr"
        },
        {
          "output_type": "stream",
          "text": [
            "Train Epoch 57 loss: 0.009 acc: 1.000\n",
            "Test Epoch 57 loss: 2.929 acc: 0.606\n"
          ],
          "name": "stdout"
        },
        {
          "output_type": "stream",
          "text": [
            "100%|██████████| 1/1 [00:00<00:00, 80.04it/s]\n"
          ],
          "name": "stderr"
        },
        {
          "output_type": "stream",
          "text": [
            "Train Epoch 58 loss: 0.012 acc: 1.000\n",
            "Test Epoch 58 loss: 2.947 acc: 0.605\n"
          ],
          "name": "stdout"
        },
        {
          "output_type": "stream",
          "text": [
            "100%|██████████| 1/1 [00:00<00:00, 66.46it/s]\n"
          ],
          "name": "stderr"
        },
        {
          "output_type": "stream",
          "text": [
            "Train Epoch 59 loss: 0.011 acc: 1.000\n",
            "Test Epoch 59 loss: 2.963 acc: 0.605\n"
          ],
          "name": "stdout"
        },
        {
          "output_type": "stream",
          "text": [
            "100%|██████████| 1/1 [00:00<00:00, 92.16it/s]\n"
          ],
          "name": "stderr"
        },
        {
          "output_type": "stream",
          "text": [
            "Train Epoch 60 loss: 0.007 acc: 1.000\n",
            "Test Epoch 60 loss: 2.980 acc: 0.605\n"
          ],
          "name": "stdout"
        },
        {
          "output_type": "stream",
          "text": [
            "100%|██████████| 1/1 [00:00<00:00, 59.58it/s]\n"
          ],
          "name": "stderr"
        },
        {
          "output_type": "stream",
          "text": [
            "Train Epoch 61 loss: 0.007 acc: 1.000\n",
            "Test Epoch 61 loss: 2.996 acc: 0.605\n"
          ],
          "name": "stdout"
        },
        {
          "output_type": "stream",
          "text": [
            "100%|██████████| 1/1 [00:00<00:00, 83.49it/s]\n"
          ],
          "name": "stderr"
        },
        {
          "output_type": "stream",
          "text": [
            "Train Epoch 62 loss: 0.008 acc: 1.000\n",
            "Test Epoch 62 loss: 3.011 acc: 0.606\n"
          ],
          "name": "stdout"
        },
        {
          "output_type": "stream",
          "text": [
            "100%|██████████| 1/1 [00:00<00:00, 66.25it/s]\n"
          ],
          "name": "stderr"
        },
        {
          "output_type": "stream",
          "text": [
            "Train Epoch 63 loss: 0.008 acc: 1.000\n",
            "Test Epoch 63 loss: 3.026 acc: 0.605\n"
          ],
          "name": "stdout"
        },
        {
          "output_type": "stream",
          "text": [
            "100%|██████████| 1/1 [00:00<00:00, 68.81it/s]\n"
          ],
          "name": "stderr"
        },
        {
          "output_type": "stream",
          "text": [
            "Train Epoch 64 loss: 0.007 acc: 1.000\n",
            "Test Epoch 64 loss: 3.041 acc: 0.606\n"
          ],
          "name": "stdout"
        },
        {
          "output_type": "stream",
          "text": [
            "100%|██████████| 1/1 [00:00<00:00, 71.62it/s]\n"
          ],
          "name": "stderr"
        },
        {
          "output_type": "stream",
          "text": [
            "Train Epoch 65 loss: 0.003 acc: 1.000\n",
            "Test Epoch 65 loss: 3.055 acc: 0.606\n"
          ],
          "name": "stdout"
        },
        {
          "output_type": "stream",
          "text": [
            "100%|██████████| 1/1 [00:00<00:00, 79.78it/s]\n"
          ],
          "name": "stderr"
        },
        {
          "output_type": "stream",
          "text": [
            "Train Epoch 66 loss: 0.001 acc: 1.000\n",
            "Test Epoch 66 loss: 3.067 acc: 0.608\n"
          ],
          "name": "stdout"
        },
        {
          "output_type": "stream",
          "text": [
            "100%|██████████| 1/1 [00:00<00:00, 72.25it/s]\n"
          ],
          "name": "stderr"
        },
        {
          "output_type": "stream",
          "text": [
            "Train Epoch 67 loss: 0.002 acc: 1.000\n",
            "Test Epoch 67 loss: 3.078 acc: 0.608\n"
          ],
          "name": "stdout"
        },
        {
          "output_type": "stream",
          "text": [
            "100%|██████████| 1/1 [00:00<00:00, 69.65it/s]\n"
          ],
          "name": "stderr"
        },
        {
          "output_type": "stream",
          "text": [
            "Train Epoch 68 loss: 0.005 acc: 1.000\n",
            "Test Epoch 68 loss: 3.088 acc: 0.609\n"
          ],
          "name": "stdout"
        },
        {
          "output_type": "stream",
          "text": [
            "100%|██████████| 1/1 [00:00<00:00, 51.28it/s]\n"
          ],
          "name": "stderr"
        },
        {
          "output_type": "stream",
          "text": [
            "Train Epoch 69 loss: 0.676 acc: 0.941\n",
            "Test Epoch 69 loss: 3.049 acc: 0.610\n"
          ],
          "name": "stdout"
        },
        {
          "output_type": "stream",
          "text": [
            "100%|██████████| 1/1 [00:00<00:00, 76.57it/s]\n"
          ],
          "name": "stderr"
        },
        {
          "output_type": "stream",
          "text": [
            "Train Epoch 70 loss: 0.004 acc: 1.000\n",
            "Test Epoch 70 loss: 3.021 acc: 0.611\n"
          ],
          "name": "stdout"
        },
        {
          "output_type": "stream",
          "text": [
            "100%|██████████| 1/1 [00:00<00:00, 69.63it/s]\n"
          ],
          "name": "stderr"
        },
        {
          "output_type": "stream",
          "text": [
            "Train Epoch 71 loss: 0.004 acc: 1.000\n",
            "Test Epoch 71 loss: 3.002 acc: 0.608\n"
          ],
          "name": "stdout"
        },
        {
          "output_type": "stream",
          "text": [
            "100%|██████████| 1/1 [00:00<00:00, 70.48it/s]\n"
          ],
          "name": "stderr"
        },
        {
          "output_type": "stream",
          "text": [
            "Train Epoch 72 loss: 0.513 acc: 0.941\n",
            "Test Epoch 72 loss: 2.970 acc: 0.608\n"
          ],
          "name": "stdout"
        },
        {
          "output_type": "stream",
          "text": [
            "100%|██████████| 1/1 [00:00<00:00, 70.22it/s]\n"
          ],
          "name": "stderr"
        },
        {
          "output_type": "stream",
          "text": [
            "Train Epoch 73 loss: 0.005 acc: 1.000\n",
            "Test Epoch 73 loss: 2.952 acc: 0.599\n"
          ],
          "name": "stdout"
        },
        {
          "output_type": "stream",
          "text": [
            "100%|██████████| 1/1 [00:00<00:00, 85.37it/s]\n"
          ],
          "name": "stderr"
        },
        {
          "output_type": "stream",
          "text": [
            "Train Epoch 74 loss: 0.002 acc: 1.000\n",
            "Test Epoch 74 loss: 2.946 acc: 0.594\n"
          ],
          "name": "stdout"
        },
        {
          "output_type": "stream",
          "text": [
            "100%|██████████| 1/1 [00:00<00:00, 70.42it/s]\n"
          ],
          "name": "stderr"
        },
        {
          "output_type": "stream",
          "text": [
            "Train Epoch 75 loss: 0.007 acc: 1.000\n",
            "Test Epoch 75 loss: 2.945 acc: 0.588\n"
          ],
          "name": "stdout"
        },
        {
          "output_type": "stream",
          "text": [
            "100%|██████████| 1/1 [00:00<00:00, 83.09it/s]\n"
          ],
          "name": "stderr"
        },
        {
          "output_type": "stream",
          "text": [
            "Train Epoch 76 loss: 0.015 acc: 1.000\n",
            "Test Epoch 76 loss: 2.944 acc: 0.588\n"
          ],
          "name": "stdout"
        },
        {
          "output_type": "stream",
          "text": [
            "100%|██████████| 1/1 [00:00<00:00, 66.56it/s]\n"
          ],
          "name": "stderr"
        },
        {
          "output_type": "stream",
          "text": [
            "Train Epoch 77 loss: 0.011 acc: 1.000\n",
            "Test Epoch 77 loss: 2.943 acc: 0.586\n"
          ],
          "name": "stdout"
        },
        {
          "output_type": "stream",
          "text": [
            "100%|██████████| 1/1 [00:00<00:00, 78.67it/s]\n"
          ],
          "name": "stderr"
        },
        {
          "output_type": "stream",
          "text": [
            "Train Epoch 78 loss: 0.014 acc: 1.000\n",
            "Test Epoch 78 loss: 2.936 acc: 0.586\n"
          ],
          "name": "stdout"
        },
        {
          "output_type": "stream",
          "text": [
            "100%|██████████| 1/1 [00:00<00:00, 68.03it/s]\n"
          ],
          "name": "stderr"
        },
        {
          "output_type": "stream",
          "text": [
            "Train Epoch 79 loss: 0.010 acc: 1.000\n",
            "Test Epoch 79 loss: 2.923 acc: 0.586\n"
          ],
          "name": "stdout"
        },
        {
          "output_type": "stream",
          "text": [
            "100%|██████████| 1/1 [00:00<00:00, 63.09it/s]\n"
          ],
          "name": "stderr"
        },
        {
          "output_type": "stream",
          "text": [
            "Train Epoch 80 loss: 0.014 acc: 1.000\n",
            "Test Epoch 80 loss: 2.901 acc: 0.585\n"
          ],
          "name": "stdout"
        },
        {
          "output_type": "stream",
          "text": [
            "100%|██████████| 1/1 [00:00<00:00, 70.63it/s]\n"
          ],
          "name": "stderr"
        },
        {
          "output_type": "stream",
          "text": [
            "Train Epoch 81 loss: 0.006 acc: 1.000\n",
            "Test Epoch 81 loss: 2.877 acc: 0.584\n"
          ],
          "name": "stdout"
        },
        {
          "output_type": "stream",
          "text": [
            "100%|██████████| 1/1 [00:00<00:00, 63.59it/s]\n"
          ],
          "name": "stderr"
        },
        {
          "output_type": "stream",
          "text": [
            "Train Epoch 82 loss: 0.012 acc: 1.000\n",
            "Test Epoch 82 loss: 2.851 acc: 0.584\n"
          ],
          "name": "stdout"
        },
        {
          "output_type": "stream",
          "text": [
            "100%|██████████| 1/1 [00:00<00:00, 66.55it/s]\n"
          ],
          "name": "stderr"
        },
        {
          "output_type": "stream",
          "text": [
            "Train Epoch 83 loss: 0.010 acc: 1.000\n",
            "Test Epoch 83 loss: 2.824 acc: 0.585\n"
          ],
          "name": "stdout"
        },
        {
          "output_type": "stream",
          "text": [
            "100%|██████████| 1/1 [00:00<00:00, 78.82it/s]\n"
          ],
          "name": "stderr"
        },
        {
          "output_type": "stream",
          "text": [
            "Train Epoch 84 loss: 0.007 acc: 1.000\n",
            "Test Epoch 84 loss: 2.801 acc: 0.587\n"
          ],
          "name": "stdout"
        },
        {
          "output_type": "stream",
          "text": [
            "100%|██████████| 1/1 [00:00<00:00, 63.53it/s]\n"
          ],
          "name": "stderr"
        },
        {
          "output_type": "stream",
          "text": [
            "Train Epoch 85 loss: 0.007 acc: 1.000\n",
            "Test Epoch 85 loss: 2.782 acc: 0.590\n"
          ],
          "name": "stdout"
        },
        {
          "output_type": "stream",
          "text": [
            "100%|██████████| 1/1 [00:00<00:00, 71.43it/s]\n"
          ],
          "name": "stderr"
        },
        {
          "output_type": "stream",
          "text": [
            "Train Epoch 86 loss: 0.010 acc: 1.000\n",
            "Test Epoch 86 loss: 2.766 acc: 0.592\n"
          ],
          "name": "stdout"
        },
        {
          "output_type": "stream",
          "text": [
            "100%|██████████| 1/1 [00:00<00:00, 73.48it/s]\n"
          ],
          "name": "stderr"
        },
        {
          "output_type": "stream",
          "text": [
            "Train Epoch 87 loss: 0.006 acc: 1.000\n",
            "Test Epoch 87 loss: 2.753 acc: 0.591\n"
          ],
          "name": "stdout"
        },
        {
          "output_type": "stream",
          "text": [
            "100%|██████████| 1/1 [00:00<00:00, 83.27it/s]\n"
          ],
          "name": "stderr"
        },
        {
          "output_type": "stream",
          "text": [
            "Train Epoch 88 loss: 0.003 acc: 1.000\n",
            "Test Epoch 88 loss: 2.744 acc: 0.593\n"
          ],
          "name": "stdout"
        },
        {
          "output_type": "stream",
          "text": [
            "100%|██████████| 1/1 [00:00<00:00, 79.25it/s]\n"
          ],
          "name": "stderr"
        },
        {
          "output_type": "stream",
          "text": [
            "Train Epoch 89 loss: 0.009 acc: 1.000\n",
            "Test Epoch 89 loss: 2.737 acc: 0.595\n"
          ],
          "name": "stdout"
        },
        {
          "output_type": "stream",
          "text": [
            "100%|██████████| 1/1 [00:00<00:00, 73.23it/s]\n"
          ],
          "name": "stderr"
        },
        {
          "output_type": "stream",
          "text": [
            "Train Epoch 90 loss: 0.006 acc: 1.000\n",
            "Test Epoch 90 loss: 2.733 acc: 0.595\n"
          ],
          "name": "stdout"
        },
        {
          "output_type": "stream",
          "text": [
            "100%|██████████| 1/1 [00:00<00:00, 63.43it/s]\n"
          ],
          "name": "stderr"
        },
        {
          "output_type": "stream",
          "text": [
            "Train Epoch 91 loss: 0.005 acc: 1.000\n",
            "Test Epoch 91 loss: 2.732 acc: 0.597\n"
          ],
          "name": "stdout"
        },
        {
          "output_type": "stream",
          "text": [
            "100%|██████████| 1/1 [00:00<00:00, 69.93it/s]\n"
          ],
          "name": "stderr"
        },
        {
          "output_type": "stream",
          "text": [
            "Train Epoch 92 loss: 0.003 acc: 1.000\n",
            "Test Epoch 92 loss: 2.732 acc: 0.600\n"
          ],
          "name": "stdout"
        },
        {
          "output_type": "stream",
          "text": [
            "100%|██████████| 1/1 [00:00<00:00, 88.20it/s]\n"
          ],
          "name": "stderr"
        },
        {
          "output_type": "stream",
          "text": [
            "Train Epoch 93 loss: 0.118 acc: 0.941\n",
            "Test Epoch 93 loss: 2.726 acc: 0.599\n"
          ],
          "name": "stdout"
        },
        {
          "output_type": "stream",
          "text": [
            "100%|██████████| 1/1 [00:00<00:00, 67.14it/s]\n"
          ],
          "name": "stderr"
        },
        {
          "output_type": "stream",
          "text": [
            "Train Epoch 94 loss: 0.005 acc: 1.000\n",
            "Test Epoch 94 loss: 2.722 acc: 0.598\n"
          ],
          "name": "stdout"
        },
        {
          "output_type": "stream",
          "text": [
            "100%|██████████| 1/1 [00:00<00:00, 73.90it/s]\n"
          ],
          "name": "stderr"
        },
        {
          "output_type": "stream",
          "text": [
            "Train Epoch 95 loss: 0.005 acc: 1.000\n",
            "Test Epoch 95 loss: 2.719 acc: 0.600\n"
          ],
          "name": "stdout"
        },
        {
          "output_type": "stream",
          "text": [
            "100%|██████████| 1/1 [00:00<00:00, 72.40it/s]\n"
          ],
          "name": "stderr"
        },
        {
          "output_type": "stream",
          "text": [
            "Train Epoch 96 loss: 0.003 acc: 1.000\n",
            "Test Epoch 96 loss: 2.716 acc: 0.599\n"
          ],
          "name": "stdout"
        },
        {
          "output_type": "stream",
          "text": [
            "100%|██████████| 1/1 [00:00<00:00, 52.04it/s]\n"
          ],
          "name": "stderr"
        },
        {
          "output_type": "stream",
          "text": [
            "Train Epoch 97 loss: 0.005 acc: 1.000\n",
            "Test Epoch 97 loss: 2.715 acc: 0.596\n"
          ],
          "name": "stdout"
        },
        {
          "output_type": "stream",
          "text": [
            "100%|██████████| 1/1 [00:00<00:00, 73.07it/s]\n"
          ],
          "name": "stderr"
        },
        {
          "output_type": "stream",
          "text": [
            "Train Epoch 98 loss: 0.006 acc: 1.000\n",
            "Test Epoch 98 loss: 2.715 acc: 0.594\n"
          ],
          "name": "stdout"
        },
        {
          "output_type": "stream",
          "text": [
            "100%|██████████| 1/1 [00:00<00:00, 68.52it/s]\n"
          ],
          "name": "stderr"
        },
        {
          "output_type": "stream",
          "text": [
            "Train Epoch 99 loss: 0.005 acc: 1.000\n",
            "Test Epoch 99 loss: 2.715 acc: 0.596\n"
          ],
          "name": "stdout"
        },
        {
          "output_type": "stream",
          "text": [
            "100%|██████████| 1/1 [00:00<00:00, 67.77it/s]\n"
          ],
          "name": "stderr"
        },
        {
          "output_type": "stream",
          "text": [
            "Train Epoch 100 loss: 0.005 acc: 1.000\n",
            "Test Epoch 100 loss: 2.715 acc: 0.597\n",
            "save model in Classifier/TrainResults/Train_Results_2020-09-01_16-25-10/HASY.pth\n",
            "save model in Classifier/weights/HASY_weights.pth\n",
            "Done Training 100 epochs\n",
            "Proccess took 2.70 m.\n"
          ],
          "name": "stdout"
        }
      ]
    },
    {
      "cell_type": "code",
      "metadata": {
        "id": "KhTv2ClV4556",
        "colab_type": "code",
        "colab": {}
      },
      "source": [
        "# !git add '/content/EquSolve/Classifier/TrainResults/Train_Results_2020-08-27_11-28-41\n",
        "# !git commit --message=\"Add train results\"'\n",
        "# !git push --set-upstream origin master"
      ],
      "execution_count": null,
      "outputs": []
    },
    {
      "cell_type": "code",
      "metadata": {
        "id": "c_xZEZvW-9-4",
        "colab_type": "code",
        "colab": {}
      },
      "source": [
        "# !git remote rm origin\n",
        "# !git remote add origin 'git@github.com:yuvalgrossman/EquSolve.git'\n",
        "# # !RUN git clone https://github.com/edenhill/librdkafka.git"
      ],
      "execution_count": null,
      "outputs": []
    }
  ]
}