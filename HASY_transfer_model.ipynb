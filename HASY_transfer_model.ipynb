{
  "nbformat": 4,
  "nbformat_minor": 0,
  "metadata": {
    "colab": {
      "name": "HASY transfer model.ipynb",
      "provenance": [],
      "include_colab_link": true
    },
    "kernelspec": {
      "name": "python3",
      "display_name": "Python 3"
    },
    "accelerator": "GPU"
  },
  "cells": [
    {
      "cell_type": "markdown",
      "metadata": {
        "id": "view-in-github",
        "colab_type": "text"
      },
      "source": [
        "<a href=\"https://colab.research.google.com/github/yuvalgrossman/EquSolve/blob/master/HASY_transfer_model.ipynb\" target=\"_parent\"><img src=\"https://colab.research.google.com/assets/colab-badge.svg\" alt=\"Open In Colab\"/></a>"
      ]
    },
    {
      "cell_type": "code",
      "metadata": {
        "id": "WSBVcRY0R1uM",
        "colab_type": "code",
        "colab": {
          "base_uri": "https://localhost:8080/",
          "height": 336
        },
        "outputId": "d6046772-d662-4cfc-d80f-4f58ac68f48c"
      },
      "source": [
        "import pandas as pd\n",
        "import numpy as np\n",
        "import matplotlib.pyplot as plt\n",
        "import tarfile\n",
        "import torch\n",
        "import torchvision\n",
        "from torchvision import datasets, transforms\n",
        "from torch.utils.data import DataLoader\n",
        "import torch.nn as nn\n",
        "import torch.nn.functional as F\n",
        "import torch.optim as optim \n",
        "import pdb\n",
        "import time\n",
        "from PIL import Image\n",
        "\n",
        "!wget 'https://zenodo.org/record/259444/files/HASYv2.tar.bz2?download=1'\n",
        "my_tar = tarfile.open('HASYv2.tar.bz2?download=1')\n",
        "my_tar.extractall() # specify which folder to extract to\n",
        "my_tar.close()\n",
        "!git clone https://github.com/yuvalgrossman/EquSolve\n",
        "\n",
        "from EquSolve.Utils.mapper import mapper\n",
        "from EquSolve.Classifier.HASYDataLoader import ExampleDataset"
      ],
      "execution_count": 1,
      "outputs": [
        {
          "output_type": "stream",
          "text": [
            "--2020-08-26 07:46:44--  https://zenodo.org/record/259444/files/HASYv2.tar.bz2?download=1\n",
            "Resolving zenodo.org (zenodo.org)... 188.184.117.155\n",
            "Connecting to zenodo.org (zenodo.org)|188.184.117.155|:443... connected.\n",
            "HTTP request sent, awaiting response... 200 OK\n",
            "Length: 34597561 (33M) [application/octet-stream]\n",
            "Saving to: ‘HASYv2.tar.bz2?download=1’\n",
            "\n",
            "HASYv2.tar.bz2?down 100%[===================>]  32.99M  57.6MB/s    in 0.6s    \n",
            "\n",
            "2020-08-26 07:46:45 (57.6 MB/s) - ‘HASYv2.tar.bz2?download=1’ saved [34597561/34597561]\n",
            "\n",
            "Cloning into 'EquSolve'...\n",
            "remote: Enumerating objects: 103, done.\u001b[K\n",
            "remote: Counting objects: 100% (103/103), done.\u001b[K\n",
            "remote: Compressing objects: 100% (91/91), done.\u001b[K\n",
            "remote: Total 103 (delta 36), reused 29 (delta 5), pack-reused 0\u001b[K\n",
            "Receiving objects: 100% (103/103), 9.23 MiB | 11.08 MiB/s, done.\n",
            "Resolving deltas: 100% (36/36), done.\n"
          ],
          "name": "stdout"
        }
      ]
    },
    {
      "cell_type": "code",
      "metadata": {
        "id": "alvW6_bpWMgF",
        "colab_type": "code",
        "colab": {}
      },
      "source": [
        "lr = 0.01\n",
        "momentum = 0.9\n",
        "n_epochs = 10\n",
        "batch_size = 32"
      ],
      "execution_count": 38,
      "outputs": []
    },
    {
      "cell_type": "code",
      "metadata": {
        "id": "8u1oFV5T3E9S",
        "colab_type": "code",
        "colab": {}
      },
      "source": [
        "from torch.utils.data import Dataset\n",
        "from PIL import Image\n",
        "import numpy as np\n",
        "import matplotlib.pyplot as plt\n",
        "\n",
        "class HASYDataset(Dataset):\n",
        "    def __init__(self, config, csv_df,transforms):\n",
        "        self.config = config\n",
        "        self.data = csv_df\n",
        "        self.transforms = transforms\n",
        "\n",
        "    def __len__(self):\n",
        "        return len(self.data.index)\n",
        "\n",
        "    def __getitem__(self, idx):\n",
        "        y = self.data.loc[idx, 'symbol_id']\n",
        "        img_path = self.config['data_path'] + self.data.loc[idx, 'path']\n",
        "        img = Image.open(img_path) # load image in PIL format\n",
        "        X = self.transforms(img)   # apply transforms: resize-> tensor-> normalize\n",
        "        X_reshape = X[0].unsqueeze(-1).transpose(2,0) # reshape to [1,28,28]\n",
        "        return (X_reshape, y)\n",
        "\n",
        "    def plotitem(self, idx):\n",
        "        y = self.data.loc[idx, 'latex']\n",
        "        # X = plt.imread(self.config['data_path'] + self.data.loc[idx, 'path'][6:])[:, :, 0]\n",
        "        X = plt.imread(self.config['data_path'] + self.data.loc[idx, 'path'])[:, :, 0]\n",
        "\n",
        "        plt.imshow(X)\n",
        "        plt.title(y)\n",
        "        print('img size {}'.format(X.shape))\n",
        "        # print((X[:,:,2]==X[:,:,0]).all())\n",
        "        # print((X[:,:,2]==X[:,:,1]).all())"
      ],
      "execution_count": 39,
      "outputs": []
    },
    {
      "cell_type": "code",
      "metadata": {
        "id": "bULs6wh2LJPU",
        "colab_type": "code",
        "colab": {
          "base_uri": "https://localhost:8080/",
          "height": 318
        },
        "outputId": "2b86f489-55db-4e7d-a07e-9dcd6d129c59"
      },
      "source": [
        "meta_data = pd.read_csv('hasy-data-labels.csv')\n",
        "sym_list = ['1','2','3','4','5','6','7','8','9','\\\\alpha','=','+','-','\\\\pi','A','X','\\\\cdot']\n",
        "all_df = mapper(meta_data,sym_list)\n",
        "all_df.latex.value_counts()"
      ],
      "execution_count": 40,
      "outputs": [
        {
          "output_type": "execute_result",
          "data": {
            "text/plain": [
              "\\alpha    2601\n",
              "\\pi       1533\n",
              "\\cdot      755\n",
              "A          159\n",
              "2          124\n",
              "8          121\n",
              "3          120\n",
              "-          118\n",
              "1          118\n",
              "6          100\n",
              "+           90\n",
              "9           90\n",
              "5           78\n",
              "7           75\n",
              "4           61\n",
              "X           54\n",
              "Name: latex, dtype: int64"
            ]
          },
          "metadata": {
            "tags": []
          },
          "execution_count": 40
        }
      ]
    },
    {
      "cell_type": "code",
      "metadata": {
        "id": "ifQSTmAfYfvv",
        "colab_type": "code",
        "colab": {}
      },
      "source": [
        "\n",
        "n_classes = len(sym_list)\n",
        "train_split = 0.8\n",
        "config = {'data_path':''}\n",
        "transform = transforms.Compose([transforms.Resize([28,28]),                                \n",
        "                      transforms.ToTensor(),\n",
        "                      transforms.Normalize(0.5,0.5),\n",
        "                      ])\n",
        "dataset = HASYDataset(config,all_df,transform)\n",
        "\n",
        "train_size = int(train_split * len(dataset))\n",
        "test_size = len(dataset) - train_size\n",
        "train_dataset, test_dataset = torch.utils.data.random_split(dataset, [train_size, test_size])\n",
        "\n",
        "train_loader = DataLoader(train_dataset, batch_size=batch_size)\n",
        "test_loader = DataLoader(test_dataset, batch_size=batch_size)"
      ],
      "execution_count": 41,
      "outputs": []
    },
    {
      "cell_type": "code",
      "metadata": {
        "id": "jE7RIKPTo7SB",
        "colab_type": "code",
        "colab": {
          "base_uri": "https://localhost:8080/",
          "height": 34
        },
        "outputId": "11609d5a-0d8c-4666-db9c-598e2bdc8bf0"
      },
      "source": [
        "device = torch.device('cuda' if torch.cuda.is_available() else 'cpu')\n",
        "print(device)"
      ],
      "execution_count": 42,
      "outputs": [
        {
          "output_type": "stream",
          "text": [
            "cuda\n"
          ],
          "name": "stdout"
        }
      ]
    },
    {
      "cell_type": "code",
      "metadata": {
        "id": "gmmiTHD3TVAJ",
        "colab_type": "code",
        "colab": {
          "base_uri": "https://localhost:8080/",
          "height": 176
        },
        "outputId": "32ef37dd-d109-4ff4-a5ed-a3b420d7851e"
      },
      "source": [
        "class Net(nn.Module):\n",
        "    def __init__(self):\n",
        "        super(Net, self).__init__()\n",
        "        self.conv1 = nn.Conv2d(1, 6, 5)\n",
        "        self.pool = nn.MaxPool2d(2, 2)\n",
        "        self.conv2 = nn.Conv2d(6, 16, 5)\n",
        "        self.fc1 = nn.Linear(16 * 4 * 4, 120)\n",
        "        self.fc2 = nn.Linear(120, 84)\n",
        "        self.fc3 = nn.Linear(84, 10)\n",
        "\n",
        "    def forward(self, x):\n",
        "        x = self.pool(F.relu(self.conv1(x))); \n",
        "        x = self.pool(F.relu(self.conv2(x)));\n",
        "        x = x.view(-1, 16 * 4 * 4); \n",
        "        x = F.relu(self.fc1(x)); \n",
        "        x = F.relu(self.fc2(x));\n",
        "        x = self.fc3(x);\n",
        "        return x\n",
        "\n",
        "\n",
        "device = torch.device('cuda' if torch.cuda.is_available() else 'cpu')\n",
        "print(device)\n",
        "net = Net()#.to(device)\n",
        "\n",
        "net"
      ],
      "execution_count": 43,
      "outputs": [
        {
          "output_type": "stream",
          "text": [
            "cuda\n"
          ],
          "name": "stdout"
        },
        {
          "output_type": "execute_result",
          "data": {
            "text/plain": [
              "Net(\n",
              "  (conv1): Conv2d(1, 6, kernel_size=(5, 5), stride=(1, 1))\n",
              "  (pool): MaxPool2d(kernel_size=2, stride=2, padding=0, dilation=1, ceil_mode=False)\n",
              "  (conv2): Conv2d(6, 16, kernel_size=(5, 5), stride=(1, 1))\n",
              "  (fc1): Linear(in_features=256, out_features=120, bias=True)\n",
              "  (fc2): Linear(in_features=120, out_features=84, bias=True)\n",
              "  (fc3): Linear(in_features=84, out_features=10, bias=True)\n",
              ")"
            ]
          },
          "metadata": {
            "tags": []
          },
          "execution_count": 43
        }
      ]
    },
    {
      "cell_type": "code",
      "metadata": {
        "id": "DpvhoDkjpZXp",
        "colab_type": "code",
        "colab": {
          "base_uri": "https://localhost:8080/",
          "height": 336
        },
        "outputId": "1a5a68c8-6ab8-4eb9-96ad-f698eed4014a"
      },
      "source": [
        "criterion = nn.CrossEntropyLoss()\n",
        "optimizer = optim.SGD(net.parameters(), lr=lr, momentum=momentum)\n",
        "# if device==torch.device('cpu'):\n",
        "  # net.load_state_dict(torch.load('EquSolve/MNISTnet.pth', map_location=lambda storage, loc: storage)) # map to CPU\n",
        "# elif device==torch.device('cuda'):\n",
        "net.load_state_dict(torch.load('EquSolve/MNISTnet.pth'))\n",
        "\n",
        "for param in net.parameters():\n",
        "  print(param.shape)\n",
        "  # param.requires_grad = False # freeze model weights\n",
        "\n",
        "net.fc3 = nn.Linear(84, n_classes)\n",
        "net"
      ],
      "execution_count": 44,
      "outputs": [
        {
          "output_type": "stream",
          "text": [
            "torch.Size([6, 1, 5, 5])\n",
            "torch.Size([6])\n",
            "torch.Size([16, 6, 5, 5])\n",
            "torch.Size([16])\n",
            "torch.Size([120, 256])\n",
            "torch.Size([120])\n",
            "torch.Size([84, 120])\n",
            "torch.Size([84])\n",
            "torch.Size([10, 84])\n",
            "torch.Size([10])\n"
          ],
          "name": "stdout"
        },
        {
          "output_type": "execute_result",
          "data": {
            "text/plain": [
              "Net(\n",
              "  (conv1): Conv2d(1, 6, kernel_size=(5, 5), stride=(1, 1))\n",
              "  (pool): MaxPool2d(kernel_size=2, stride=2, padding=0, dilation=1, ceil_mode=False)\n",
              "  (conv2): Conv2d(6, 16, kernel_size=(5, 5), stride=(1, 1))\n",
              "  (fc1): Linear(in_features=256, out_features=120, bias=True)\n",
              "  (fc2): Linear(in_features=120, out_features=84, bias=True)\n",
              "  (fc3): Linear(in_features=84, out_features=17, bias=True)\n",
              ")"
            ]
          },
          "metadata": {
            "tags": []
          },
          "execution_count": 44
        }
      ]
    },
    {
      "cell_type": "code",
      "metadata": {
        "id": "VhkYpNfjwXxr",
        "colab_type": "code",
        "colab": {
          "base_uri": "https://localhost:8080/",
          "height": 34
        },
        "outputId": "7dcdade3-b4b8-4a6f-90b2-e684e82a9c2a"
      },
      "source": [
        "net.conv1.weight.device"
      ],
      "execution_count": 45,
      "outputs": [
        {
          "output_type": "execute_result",
          "data": {
            "text/plain": [
              "device(type='cpu')"
            ]
          },
          "metadata": {
            "tags": []
          },
          "execution_count": 45
        }
      ]
    },
    {
      "cell_type": "code",
      "metadata": {
        "id": "0IA4RybEvbKi",
        "colab_type": "code",
        "colab": {
          "base_uri": "https://localhost:8080/",
          "height": 34
        },
        "outputId": "05211544-2663-4019-d186-c9386a47e64c"
      },
      "source": [
        "net = net.to(device)\n",
        "net.conv1.weight.device"
      ],
      "execution_count": 46,
      "outputs": [
        {
          "output_type": "execute_result",
          "data": {
            "text/plain": [
              "device(type='cuda', index=0)"
            ]
          },
          "metadata": {
            "tags": []
          },
          "execution_count": 46
        }
      ]
    },
    {
      "cell_type": "code",
      "metadata": {
        "id": "zsTSlUWiRgsX",
        "colab_type": "code",
        "colab": {}
      },
      "source": [
        "def test():\n",
        "  correct = 0\n",
        "  total = 0\n",
        "  with torch.no_grad():\n",
        "    for data in test_loader:\n",
        "        images, labels = data\n",
        "        outputs = net(images.to(device))\n",
        "        _, predicted = torch.max(outputs.data, 1)\n",
        "        total += labels.size(0)\n",
        "        correct += (predicted == labels.to(device)).sum().item()\n",
        "  print('model accuracy: %d %%' % (100 * correct / total))"
      ],
      "execution_count": 47,
      "outputs": []
    },
    {
      "cell_type": "code",
      "metadata": {
        "id": "O_hVA7jrWytX",
        "colab_type": "code",
        "colab": {
          "base_uri": "https://localhost:8080/",
          "height": 390
        },
        "outputId": "3810e7cc-4bc8-4a48-e442-39b44c959fe5"
      },
      "source": [
        "net.train()\n",
        "for epoch in range(n_epochs):  # loop over the dataset multiple times\n",
        "    t = time.time()\n",
        "    for i, data in enumerate(train_loader, 0):\n",
        "        \n",
        "        # get the inputs; data is a list of [inputs, labels]\n",
        "        inputs, labels = data\n",
        "\n",
        "        # zero the parameter gradients\n",
        "        optimizer.zero_grad()\n",
        "\n",
        "        # forward + backward + optimize\n",
        "        outputs = net(inputs.to(device))\n",
        "        loss = criterion(outputs, labels.to(device))\n",
        "        loss.backward()\n",
        "        optimizer.step()\n",
        "    \n",
        "    # print statistics\n",
        "    print('epoch {} loss:{:.3f} time:{:.3f}'.format(epoch + 1, loss.item(), time.time()-t))\n",
        "    test()\n",
        "    \n",
        "\n",
        "print('Finished Training')\n"
      ],
      "execution_count": 48,
      "outputs": [
        {
          "output_type": "stream",
          "text": [
            "epoch 1 loss:0.176 time:2.970\n",
            "model accuracy: 89 %\n",
            "epoch 2 loss:0.094 time:2.890\n",
            "model accuracy: 93 %\n",
            "epoch 3 loss:0.061 time:2.842\n",
            "model accuracy: 95 %\n",
            "epoch 4 loss:0.056 time:2.954\n",
            "model accuracy: 95 %\n",
            "epoch 5 loss:0.016 time:2.902\n",
            "model accuracy: 96 %\n",
            "epoch 6 loss:0.009 time:2.979\n",
            "model accuracy: 96 %\n",
            "epoch 7 loss:0.009 time:2.915\n",
            "model accuracy: 96 %\n",
            "epoch 8 loss:0.006 time:2.971\n",
            "model accuracy: 96 %\n",
            "epoch 9 loss:0.012 time:2.871\n",
            "model accuracy: 96 %\n",
            "epoch 10 loss:0.040 time:2.963\n",
            "model accuracy: 95 %\n",
            "Finished Training\n"
          ],
          "name": "stdout"
        }
      ]
    },
    {
      "cell_type": "code",
      "metadata": {
        "id": "ZlLFRukOVB4v",
        "colab_type": "code",
        "colab": {
          "base_uri": "https://localhost:8080/",
          "height": 34
        },
        "outputId": "32dd41e5-989c-4123-a2b4-ee35ee5cb052"
      },
      "source": [
        "net.conv1.weight.device"
      ],
      "execution_count": 14,
      "outputs": [
        {
          "output_type": "execute_result",
          "data": {
            "text/plain": [
              "device(type='cuda', index=0)"
            ]
          },
          "metadata": {
            "tags": []
          },
          "execution_count": 14
        }
      ]
    },
    {
      "cell_type": "code",
      "metadata": {
        "id": "4CpWS8G4vmDV",
        "colab_type": "code",
        "colab": {}
      },
      "source": [
        ""
      ],
      "execution_count": null,
      "outputs": []
    }
  ]
}