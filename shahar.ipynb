{
  "nbformat": 4,
  "nbformat_minor": 0,
  "metadata": {
    "colab": {
      "name": "shahar.ipynb",
      "provenance": [],
      "collapsed_sections": [],
      "include_colab_link": true
    },
    "kernelspec": {
      "name": "python3",
      "display_name": "Python 3"
    },
    "accelerator": "GPU"
  },
  "cells": [
    {
      "cell_type": "markdown",
      "metadata": {
        "id": "view-in-github",
        "colab_type": "text"
      },
      "source": [
        "<a href=\"https://colab.research.google.com/github/yuvalgrossman/EquSolve/blob/master/shahar.ipynb\" target=\"_parent\"><img src=\"https://colab.research.google.com/assets/colab-badge.svg\" alt=\"Open In Colab\"/></a>"
      ]
    },
    {
      "cell_type": "code",
      "metadata": {
        "id": "LzXyWHmRewLB",
        "colab_type": "code",
        "colab": {
          "base_uri": "https://localhost:8080/",
          "height": 34
        },
        "outputId": "a9ab8cf2-caf2-4302-c8e3-01981a02f5a6"
      },
      "source": [
        "import tarfile\n",
        "import pandas as pd\n",
        "import numpy as np\n",
        "import matplotlib.pyplot as plt\n",
        "import pandas as pd\n",
        "import numpy as np\n",
        "import torch\n",
        "import torchvision\n",
        "import torch.nn as nn\n",
        "import torch.nn.functional as F\n",
        "import torch.optim as optim \n",
        " \n",
        "from torchvision.transforms import transforms\n",
        "from torch.utils.data import DataLoader\n",
        "from torch.utils.data import Dataset\n",
        "\n",
        "def get_device():\n",
        "    if torch.cuda.is_available():\n",
        "        device = 'cuda:0'\n",
        "    else:\n",
        "        device = 'cpu'\n",
        "    return device\n",
        "device = get_device()\n",
        "print(device)"
      ],
      "execution_count": 2,
      "outputs": [
        {
          "output_type": "stream",
          "text": [
            "cuda:0\n"
          ],
          "name": "stdout"
        }
      ]
    },
    {
      "cell_type": "code",
      "metadata": {
        "id": "VqPBFfKhe3nr",
        "colab_type": "code",
        "colab": {
          "base_uri": "https://localhost:8080/",
          "height": 204
        },
        "outputId": "8fbaa68c-5257-47c4-d64c-f1b82ba572b2"
      },
      "source": [
        "# get data\n",
        "!wget 'https://zenodo.org/record/259444/files/HASYv2.tar.bz2?download=1'\n",
        "my_tar = tarfile.open('HASYv2.tar.bz2?download=1')\n",
        "my_tar.extractall() # specify which folder to extract to\n",
        "my_tar.close()\n",
        "meta_data = pd.read_csv('hasy-data-labels.csv')\n"
      ],
      "execution_count": 3,
      "outputs": [
        {
          "output_type": "stream",
          "text": [
            "--2020-08-18 12:53:49--  https://zenodo.org/record/259444/files/HASYv2.tar.bz2?download=1\n",
            "Resolving zenodo.org (zenodo.org)... 188.184.117.155\n",
            "Connecting to zenodo.org (zenodo.org)|188.184.117.155|:443... connected.\n",
            "HTTP request sent, awaiting response... 200 OK\n",
            "Length: 34597561 (33M) [application/octet-stream]\n",
            "Saving to: ‘HASYv2.tar.bz2?download=1’\n",
            "\n",
            "HASYv2.tar.bz2?down 100%[===================>]  32.99M  73.6MB/s    in 0.4s    \n",
            "\n",
            "2020-08-18 12:53:50 (73.6 MB/s) - ‘HASYv2.tar.bz2?download=1’ saved [34597561/34597561]\n",
            "\n"
          ],
          "name": "stdout"
        }
      ]
    },
    {
      "cell_type": "code",
      "metadata": {
        "id": "5UuO4Zn9fBMv",
        "colab_type": "code",
        "colab": {
          "base_uri": "https://localhost:8080/",
          "height": 34
        },
        "outputId": "eedddd21-b257-4b43-fcaa-61c9d666c392"
      },
      "source": [
        "# show example\n",
        "img = plt.imread(meta_data['path'][603])\n",
        "#plt.imshow(img)\n",
        "#print('img shape = ',img.shape)\n",
        "meta_data['latex'].isin(['/']).sum()"
      ],
      "execution_count": 4,
      "outputs": [
        {
          "output_type": "execute_result",
          "data": {
            "text/plain": [
              "532"
            ]
          },
          "metadata": {
            "tags": []
          },
          "execution_count": 4
        }
      ]
    },
    {
      "cell_type": "code",
      "metadata": {
        "id": "rD0kdB_-gK2o",
        "colab_type": "code",
        "colab": {
          "base_uri": "https://localhost:8080/",
          "height": 419
        },
        "outputId": "ce9807d0-129d-4a66-bfa7-0e8a8b40788d"
      },
      "source": [
        "# start with data subset\n",
        "train_df = pd.read_csv('classification-task/fold-1/train.csv')\n",
        "test_df = pd.read_csv('classification-task/fold-1/test.csv')\n",
        "sym_list = ['3','2','1','pi']\n",
        "\n",
        "new_df = mapper(train_df,sym_list)\n",
        "\n",
        "new_df"
      ],
      "execution_count": 93,
      "outputs": [
        {
          "output_type": "execute_result",
          "data": {
            "text/html": [
              "<div>\n",
              "<style scoped>\n",
              "    .dataframe tbody tr th:only-of-type {\n",
              "        vertical-align: middle;\n",
              "    }\n",
              "\n",
              "    .dataframe tbody tr th {\n",
              "        vertical-align: top;\n",
              "    }\n",
              "\n",
              "    .dataframe thead th {\n",
              "        text-align: right;\n",
              "    }\n",
              "</style>\n",
              "<table border=\"1\" class=\"dataframe\">\n",
              "  <thead>\n",
              "    <tr style=\"text-align: right;\">\n",
              "      <th></th>\n",
              "      <th>latex</th>\n",
              "      <th>symbol_id</th>\n",
              "    </tr>\n",
              "  </thead>\n",
              "  <tbody>\n",
              "    <tr>\n",
              "      <th>0</th>\n",
              "      <td>1</td>\n",
              "      <td>0</td>\n",
              "    </tr>\n",
              "    <tr>\n",
              "      <th>1</th>\n",
              "      <td>1</td>\n",
              "      <td>0</td>\n",
              "    </tr>\n",
              "    <tr>\n",
              "      <th>2</th>\n",
              "      <td>1</td>\n",
              "      <td>0</td>\n",
              "    </tr>\n",
              "    <tr>\n",
              "      <th>3</th>\n",
              "      <td>1</td>\n",
              "      <td>0</td>\n",
              "    </tr>\n",
              "    <tr>\n",
              "      <th>4</th>\n",
              "      <td>1</td>\n",
              "      <td>0</td>\n",
              "    </tr>\n",
              "    <tr>\n",
              "      <th>...</th>\n",
              "      <td>...</td>\n",
              "      <td>...</td>\n",
              "    </tr>\n",
              "    <tr>\n",
              "      <th>320</th>\n",
              "      <td>3</td>\n",
              "      <td>2</td>\n",
              "    </tr>\n",
              "    <tr>\n",
              "      <th>321</th>\n",
              "      <td>3</td>\n",
              "      <td>2</td>\n",
              "    </tr>\n",
              "    <tr>\n",
              "      <th>322</th>\n",
              "      <td>3</td>\n",
              "      <td>2</td>\n",
              "    </tr>\n",
              "    <tr>\n",
              "      <th>323</th>\n",
              "      <td>3</td>\n",
              "      <td>2</td>\n",
              "    </tr>\n",
              "    <tr>\n",
              "      <th>324</th>\n",
              "      <td>3</td>\n",
              "      <td>2</td>\n",
              "    </tr>\n",
              "  </tbody>\n",
              "</table>\n",
              "<p>325 rows × 2 columns</p>\n",
              "</div>"
            ],
            "text/plain": [
              "    latex  symbol_id\n",
              "0       1          0\n",
              "1       1          0\n",
              "2       1          0\n",
              "3       1          0\n",
              "4       1          0\n",
              "..    ...        ...\n",
              "320     3          2\n",
              "321     3          2\n",
              "322     3          2\n",
              "323     3          2\n",
              "324     3          2\n",
              "\n",
              "[325 rows x 2 columns]"
            ]
          },
          "metadata": {
            "tags": []
          },
          "execution_count": 93
        }
      ]
    },
    {
      "cell_type": "code",
      "metadata": {
        "id": "k-AifVT21foW",
        "colab_type": "code",
        "colab": {}
      },
      "source": [
        "def mapper(csv_df,sym_list=None):\n",
        "  # selects slice of data frame according to list of symbols\n",
        "  # sym_list is a list of latex symbols (e.g. ['1','A','\\pi'])\n",
        "  if sym_list == None:\n",
        "    return csv_df\n",
        "  else:\n",
        "    df = csv_df[['latex','symbol_id']][csv_df['latex'].isin(sym_list)].reset_index(drop=True)\n",
        "    latex_id_df = df.drop_duplicates().reset_index(drop=True)\n",
        "    label_map = dict(zip(latex_id_df['symbol_id'], list(latex_id_df.index)))\n",
        "    df['symbol_id'].replace(label_map, inplace=True)\n",
        "    return df\n",
        "    \n",
        "\n",
        "\n"
      ],
      "execution_count": 88,
      "outputs": []
    },
    {
      "cell_type": "code",
      "metadata": {
        "id": "phFW4e7qu7uO",
        "colab_type": "code",
        "colab": {}
      },
      "source": [
        "class ExampleDataset(Dataset):\n",
        "    def __init__(self,csv_df,transforms=None):\n",
        "      self.data = csv_df\n",
        "      self.transforms = transforms\n",
        "\n",
        "    def __len__(self):\n",
        "        \n",
        "        return len(self.data.index)\n",
        "    \n",
        "    def __getitem__(self, idx):\n",
        "        y = self.data.loc[idx, 'symbol_id']\n",
        "        X = np.expand_dims(plt.imread(self.data.loc[idx,'path'][6:])[:,:,0], 2)\n",
        "\n",
        "        if self.transforms:\n",
        "            X = self.transforms(X)\n",
        "\n",
        "        return (X,y)\n",
        "\n",
        "    def plotitem(self, idx):\n",
        "        y = self.data.loc[idx, 'latex']\n",
        "        X = plt.imread(self.data.loc[idx,'path'][6:])[:,:,0]\n",
        "\n",
        "        plt.imshow(X)\n",
        "        plt.title(y)\n",
        "        print('img size {}'.format(X.shape))\n",
        "        # print((X[:,:,2]==X[:,:,0]).all())\n",
        "        # print((X[:,:,2]==X[:,:,1]).all())"
      ],
      "execution_count": 7,
      "outputs": []
    },
    {
      "cell_type": "code",
      "metadata": {
        "id": "KHHfZ_YG6RcJ",
        "colab_type": "code",
        "colab": {}
      },
      "source": [
        "train_data = ExampleDataset(train_df, transforms=transforms.ToTensor())\n",
        "trainloader = DataLoader(train_data, batch_size=512, shuffle=True)\n",
        "\n",
        "test_data = ExampleDataset(test_df, transforms=transforms.ToTensor())\n",
        "testloader = DataLoader(train_data, batch_size=512, shuffle=True)"
      ],
      "execution_count": 8,
      "outputs": []
    },
    {
      "cell_type": "code",
      "metadata": {
        "id": "KQy66wMh08m1",
        "colab_type": "code",
        "colab": {
          "base_uri": "https://localhost:8080/",
          "height": 298
        },
        "outputId": "5e2d4a37-298d-4cc1-eb2b-ca77dd93e8cc"
      },
      "source": [
        "train_data.plotitem(2)\n",
        "# print(x.shape, y.shape)"
      ],
      "execution_count": 9,
      "outputs": [
        {
          "output_type": "stream",
          "text": [
            "img size (32, 32)\n"
          ],
          "name": "stdout"
        },
        {
          "output_type": "display_data",
          "data": {
            "image/png": "[encoded data removed]",
            "text/plain": [
              "<Figure size 432x288 with 1 Axes>"
            ]
          },
          "metadata": {
            "tags": [],
            "needs_background": "light"
          }
        }
      ]
    },
    {
      "cell_type": "code",
      "metadata": {
        "id": "YWel4-PX--Tw",
        "colab_type": "code",
        "colab": {
          "base_uri": "https://localhost:8080/",
          "height": 119
        },
        "outputId": "2a676609-1b7a-48b3-81ad-444e9ca42d8f"
      },
      "source": [
        "# define the neural net class\n",
        "class Net(nn.Module):\n",
        "    def __init__(self):\n",
        "        super(Net, self).__init__()\n",
        "        self.conv1 = nn.Conv2d(in_channels=1, out_channels=20, \n",
        "                               kernel_size=3, stride=1)\n",
        "        self.conv2 = nn.Conv2d(in_channels=20, out_channels=50, \n",
        "                               kernel_size=3, stride=1)\n",
        "        self.fc1 = nn.Linear(in_features=1800, out_features=500)\n",
        "        self.fc2 = nn.Linear(in_features=500, out_features=1401)\n",
        " \n",
        "    def forward(self, x):\n",
        "        # print(x.shape)\n",
        "        x = F.relu(self.conv1(x));#print(x.shape)\n",
        "        x = F.max_pool2d(x, 2, 2);#print(x.shape)\n",
        "        x = F.relu(self.conv2(x));#print(x.shape)\n",
        "        x = F.max_pool2d(x, 2, 2);#print(x.shape)\n",
        "        x = x.view(x.size(0), -1);#print(x.shape)\n",
        "        x = F.relu(self.fc1(x));#print(x.shape)\n",
        "        x = self.fc2(x);#print(x.shape)\n",
        "        return x\n",
        "\n",
        "net = Net().to(device)\n",
        "print(net)\n",
        "# loss\n",
        "criterion = nn.CrossEntropyLoss()\n",
        "# optimizer\n",
        "optimizer = optim.SGD(net.parameters(), lr=0.001, momentum=0.9)"
      ],
      "execution_count": 10,
      "outputs": [
        {
          "output_type": "stream",
          "text": [
            "Net(\n",
            "  (conv1): Conv2d(1, 20, kernel_size=(3, 3), stride=(1, 1))\n",
            "  (conv2): Conv2d(20, 50, kernel_size=(3, 3), stride=(1, 1))\n",
            "  (fc1): Linear(in_features=1800, out_features=500, bias=True)\n",
            "  (fc2): Linear(in_features=500, out_features=1401, bias=True)\n",
            ")\n"
          ],
          "name": "stdout"
        }
      ]
    },
    {
      "cell_type": "code",
      "metadata": {
        "id": "JGYI46lv-4CU",
        "colab_type": "code",
        "colab": {}
      },
      "source": [
        "from tqdm.notebook import tqdm"
      ],
      "execution_count": 11,
      "outputs": []
    },
    {
      "cell_type": "code",
      "metadata": {
        "id": "Y8ZMjc_4_NM2",
        "colab_type": "code",
        "colab": {}
      },
      "source": [
        "def train(net, trainloader):\n",
        "    for epoch in range(10): # no. of epochs\n",
        "        running_loss = 0\n",
        "        for data in tqdm(trainloader):\n",
        "            # data pixels and labels to GPU if available\n",
        "            inputs, labels = data[0].to(device, non_blocking=True), data[1].to(device, non_blocking=True)\n",
        "            # print(inputs.shape, labels.shape)\n",
        "            # set the parameter gradients to zero\n",
        "            optimizer.zero_grad()\n",
        "            outputs = net(inputs)\n",
        "            # print(outputs.shape, labels.shape)\n",
        "            loss = criterion(outputs, labels)\n",
        "            # propagate the loss backward\n",
        "            loss.backward()\n",
        "            # update the gradients\n",
        "            optimizer.step()\n",
        " \n",
        "            running_loss += loss.item()\n",
        "        print('[Epoch %d] loss: %.3f' %\n",
        "                      (epoch + 1, running_loss/len(trainloader)))\n",
        " \n",
        "    print('Done Training')\n",
        " \n",
        "def test(net, testloader):\n",
        "    correct = 0\n",
        "    total = 0\n",
        "    with torch.no_grad():\n",
        "        for data in testloader:\n",
        "            inputs, labels = data[0].to(device, non_blocking=True), data[1].to(device, non_blocking=True)\n",
        "            # print(inputs.shape, labels.shape)\n",
        "            outputs = net(inputs)\n",
        "            _, predicted = torch.max(outputs.data, 1)\n",
        "            total += labels.size(0)\n",
        "            correct += (predicted == labels).sum().item()\n",
        " \n",
        "    print('Accuracy of the network on test images: %0.3f %%' % (\n",
        "        100 * correct / total))\n",
        "    \n",
        "train(net, trainloader)\n",
        "# test(net, testloader)"
      ],
      "execution_count": null,
      "outputs": []
    },
    {
      "cell_type": "code",
      "metadata": {
        "id": "e2oEP18g_xCW",
        "colab_type": "code",
        "colab": {}
      },
      "source": [
        "test(net, testloader)"
      ],
      "execution_count": null,
      "outputs": []
    },
    {
      "cell_type": "code",
      "metadata": {
        "id": "oV0OYIXZABw9",
        "colab_type": "code",
        "colab": {}
      },
      "source": [
        ""
      ],
      "execution_count": null,
      "outputs": []
    },
    {
      "cell_type": "code",
      "metadata": {
        "id": "M8vQRl9NBKuX",
        "colab_type": "code",
        "colab": {}
      },
      "source": [
        "num=1000\n",
        "test_data.plotitem(num)\n",
        "net(test_data.__getitem__(num)[0].unsqueeze(0).to(device)).argmax()"
      ],
      "execution_count": null,
      "outputs": []
    },
    {
      "cell_type": "code",
      "metadata": {
        "id": "qXJtH9cuBTHh",
        "colab_type": "code",
        "colab": {}
      },
      "source": [
        ""
      ],
      "execution_count": null,
      "outputs": []
    }
  ]
}