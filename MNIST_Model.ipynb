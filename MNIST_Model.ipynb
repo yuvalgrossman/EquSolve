{
  "nbformat": 4,
  "nbformat_minor": 0,
  "metadata": {
    "colab": {
      "name": "MNIST Model.ipynb",
      "provenance": [],
      "collapsed_sections": [],
      "authorship_tag": "ABX9TyPqTsi74jf49WCIOhwUBX0i",
      "include_colab_link": true
    },
    "kernelspec": {
      "name": "python3",
      "display_name": "Python 3"
    },
    "accelerator": "GPU"
  },
  "cells": [
    {
      "cell_type": "markdown",
      "metadata": {
        "id": "view-in-github",
        "colab_type": "text"
      },
      "source": [
        "<a href=\"https://colab.research.google.com/github/yuvalgrossman/EquSolve/blob/master/MNIST_Model.ipynb\" target=\"_parent\"><img src=\"https://colab.research.google.com/assets/colab-badge.svg\" alt=\"Open In Colab\"/></a>"
      ]
    },
    {
      "cell_type": "code",
      "metadata": {
        "id": "hgtJD9Ad-Za8",
        "colab_type": "code",
        "colab": {}
      },
      "source": [
        "import numpy as np\n",
        "import torch\n",
        "import torchvision\n",
        "import matplotlib.pyplot as plt\n",
        "from time import time\n",
        "from torchvision import datasets, transforms\n",
        "from torch import nn, optim\n",
        "import torch.nn.functional as F\n",
        "import pdb\n",
        "import time"
      ],
      "execution_count": 24,
      "outputs": []
    },
    {
      "cell_type": "code",
      "metadata": {
        "id": "jmoa7HxIhK9R",
        "colab_type": "code",
        "colab": {}
      },
      "source": [
        "# define parameters\n",
        "lr = 0.01\n",
        "momentum = 0.9\n",
        "n_epochs = 20\n",
        "batch_size = 1000"
      ],
      "execution_count": 25,
      "outputs": []
    },
    {
      "cell_type": "code",
      "metadata": {
        "id": "PLJUDCp-_N6r",
        "colab_type": "code",
        "colab": {}
      },
      "source": [
        ""
      ],
      "execution_count": 25,
      "outputs": []
    },
    {
      "cell_type": "code",
      "metadata": {
        "id": "lhH8hqwF-ro-",
        "colab_type": "code",
        "colab": {}
      },
      "source": [
        "#transform = transforms.ToTensor()\n",
        "transform = transforms.Compose([transforms.ToTensor(),\n",
        "                              transforms.Normalize(0.5,0.5),\n",
        "                              ])\n",
        "train_loader = torch.utils.data.DataLoader(\n",
        "  torchvision.datasets.MNIST('/files/', train=True, download=True,\n",
        "                             transform=transform), batch_size=batch_size, shuffle=True)\n",
        "test_loader = torch.utils.data.DataLoader(\n",
        "  torchvision.datasets.MNIST('/files/', train=False, download=True,\n",
        "                             transform=transform), batch_size=batch_size, shuffle=True)\n"
      ],
      "execution_count": 26,
      "outputs": []
    },
    {
      "cell_type": "code",
      "metadata": {
        "id": "uyD7PSGZC95g",
        "colab_type": "code",
        "colab": {
          "base_uri": "https://localhost:8080/",
          "height": 51
        },
        "outputId": "2d0c7059-c614-4b59-f2d9-dbd482472e0f"
      },
      "source": [
        "examples = iter(train_loader)\n",
        "images, labels = examples.next()\n",
        "print(images.shape)\n",
        "print(labels.shape)"
      ],
      "execution_count": 27,
      "outputs": [
        {
          "output_type": "stream",
          "text": [
            "torch.Size([1000, 1, 28, 28])\n",
            "torch.Size([1000])\n"
          ],
          "name": "stdout"
        }
      ]
    },
    {
      "cell_type": "code",
      "metadata": {
        "id": "uKddzc2xEtEy",
        "colab_type": "code",
        "colab": {
          "base_uri": "https://localhost:8080/",
          "height": 315
        },
        "outputId": "eeff2841-7771-455b-aee4-716de137d3b3"
      },
      "source": [
        "plt.imshow(images[0].numpy().squeeze(), cmap='gray_r');\n",
        "print('min-max:',images[0].numpy().min(), images[0].numpy().max()) # check normalization\n",
        "plt.title(labels[0].numpy())"
      ],
      "execution_count": 28,
      "outputs": [
        {
          "output_type": "stream",
          "text": [
            "min-max: -1.0 1.0\n"
          ],
          "name": "stdout"
        },
        {
          "output_type": "execute_result",
          "data": {
            "text/plain": [
              "Text(0.5, 1.0, '0')"
            ]
          },
          "metadata": {
            "tags": []
          },
          "execution_count": 28
        },
        {
          "output_type": "display_data",
          "data": {
            "image/png": "[encoded data removed]",
            "text/plain": [
              "<Figure size 432x288 with 1 Axes>"
            ]
          },
          "metadata": {
            "tags": [],
            "needs_background": "light"
          }
        }
      ]
    },
    {
      "cell_type": "code",
      "metadata": {
        "id": "mQ-HTbL5Kz7W",
        "colab_type": "code",
        "colab": {
          "base_uri": "https://localhost:8080/",
          "height": 34
        },
        "outputId": "46cbdc02-7b1c-40e7-e4df-1acc480a6eae"
      },
      "source": [
        "class Net(nn.Module):\n",
        "    def __init__(self):\n",
        "        super(Net, self).__init__()\n",
        "        self.conv1 = nn.Conv2d(1, 6, 5)\n",
        "        self.pool = nn.MaxPool2d(2, 2)\n",
        "        self.conv2 = nn.Conv2d(6, 16, 5)\n",
        "        self.fc1 = nn.Linear(16 * 4 * 4, 120)\n",
        "        self.fc2 = nn.Linear(120, 84)\n",
        "        self.fc3 = nn.Linear(84, 10)\n",
        "\n",
        "    def forward(self, x):\n",
        "        # print(x.shape)\n",
        "        x = self.pool(F.relu(self.conv1(x)));\n",
        "        x = self.pool(F.relu(self.conv2(x)));\n",
        "        x = x.view(-1, 16 * 4 * 4); \n",
        "        x = F.relu(self.fc1(x)); \n",
        "        x = F.relu(self.fc2(x));\n",
        "        x = self.fc3(x);\n",
        "        return x\n",
        "\n",
        "\n",
        "device = torch.device('cuda' if torch.cuda.is_available() else 'cpu')\n",
        "print(device)\n",
        "net = Net().to(device)\n",
        "\n",
        "criterion = nn.CrossEntropyLoss()\n",
        "optimizer = optim.SGD(net.parameters(), lr=lr, momentum=momentum)"
      ],
      "execution_count": 29,
      "outputs": [
        {
          "output_type": "stream",
          "text": [
            "cuda\n"
          ],
          "name": "stdout"
        }
      ]
    },
    {
      "cell_type": "code",
      "metadata": {
        "id": "iw-QN3W-dI7B",
        "colab_type": "code",
        "colab": {}
      },
      "source": [
        "def test():\n",
        "  correct = 0\n",
        "  total = 0\n",
        "  with torch.no_grad():\n",
        "    for data in test_loader:\n",
        "        images, labels = data\n",
        "        outputs = net(images.to(device))\n",
        "        _, predicted = torch.max(outputs.data, 1)\n",
        "        total += labels.size(0)\n",
        "        correct += (predicted == labels.to(device)).sum().item()\n",
        "  print('model accuracy: %d %%' % (100 * correct / total))"
      ],
      "execution_count": 30,
      "outputs": []
    },
    {
      "cell_type": "code",
      "metadata": {
        "id": "LbvSMP3Tq8ko",
        "colab_type": "code",
        "colab": {
          "base_uri": "https://localhost:8080/",
          "height": 714
        },
        "outputId": "59ac1154-558a-4718-ef2b-109a3e52c42e"
      },
      "source": [
        "\n",
        "for epoch in range(n_epochs):  # loop over the dataset multiple times\n",
        "    t = time.time()\n",
        "    for i, data in enumerate(train_loader, 0):\n",
        "        \n",
        "        # get the inputs; data is a list of [inputs, labels]\n",
        "        inputs, labels = data\n",
        "\n",
        "        # zero the parameter gradients\n",
        "        optimizer.zero_grad()\n",
        "\n",
        "        # forward + backward + optimize\n",
        "        outputs = net(inputs.to(device))\n",
        "        loss = criterion(outputs, labels.to(device))\n",
        "        loss.backward()\n",
        "        optimizer.step()\n",
        "    \n",
        "    # print statistics\n",
        "    print('epoch {} loss:{:.3f} time:{:.3f}'.format(epoch + 1, loss.item(), time.time()-t))\n",
        "    test()\n",
        "    \n",
        "\n",
        "print('Finished Training')\n"
      ],
      "execution_count": 31,
      "outputs": [
        {
          "output_type": "stream",
          "text": [
            "epoch 1 loss:2.257 time:11.126\n",
            "model accuracy: 32 %\n",
            "epoch 2 loss:0.624 time:11.207\n",
            "model accuracy: 80 %\n",
            "epoch 3 loss:0.268 time:10.838\n",
            "model accuracy: 92 %\n",
            "epoch 4 loss:0.208 time:11.051\n",
            "model accuracy: 94 %\n",
            "epoch 5 loss:0.184 time:10.811\n",
            "model accuracy: 95 %\n",
            "epoch 6 loss:0.157 time:10.724\n",
            "model accuracy: 96 %\n",
            "epoch 7 loss:0.089 time:10.968\n",
            "model accuracy: 96 %\n",
            "epoch 8 loss:0.098 time:10.628\n",
            "model accuracy: 97 %\n",
            "epoch 9 loss:0.107 time:10.897\n",
            "model accuracy: 97 %\n",
            "epoch 10 loss:0.107 time:11.163\n",
            "model accuracy: 97 %\n",
            "epoch 11 loss:0.078 time:10.840\n",
            "model accuracy: 97 %\n",
            "epoch 12 loss:0.073 time:10.680\n",
            "model accuracy: 97 %\n",
            "epoch 13 loss:0.062 time:10.956\n",
            "model accuracy: 97 %\n",
            "epoch 14 loss:0.073 time:10.787\n",
            "model accuracy: 98 %\n",
            "epoch 15 loss:0.075 time:10.877\n",
            "model accuracy: 98 %\n",
            "epoch 16 loss:0.054 time:10.653\n",
            "model accuracy: 97 %\n",
            "epoch 17 loss:0.051 time:10.995\n",
            "model accuracy: 98 %\n",
            "epoch 18 loss:0.068 time:10.813\n",
            "model accuracy: 98 %\n",
            "epoch 19 loss:0.053 time:10.869\n",
            "model accuracy: 98 %\n",
            "epoch 20 loss:0.054 time:10.676\n",
            "model accuracy: 98 %\n",
            "Finished Training\n"
          ],
          "name": "stdout"
        }
      ]
    },
    {
      "cell_type": "code",
      "metadata": {
        "id": "5yOT903ML0ie",
        "colab_type": "code",
        "colab": {}
      },
      "source": [
        "torch.save(net.state_dict(), 'MNISTnet.pth')"
      ],
      "execution_count": 34,
      "outputs": []
    }
  ]
}