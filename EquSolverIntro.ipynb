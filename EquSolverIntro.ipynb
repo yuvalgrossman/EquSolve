{
  "nbformat": 4,
  "nbformat_minor": 0,
  "metadata": {
    "colab": {
      "name": "EquSolverIntro.ipynb",
      "provenance": [],
      "toc_visible": true,
      "authorship_tag": "ABX9TyP/oDeefH7yExmJ5IatXScd",
      "include_colab_link": true
    },
    "kernelspec": {
      "name": "python3",
      "display_name": "Python 3"
    }
  },
  "cells": [
    {
      "cell_type": "markdown",
      "metadata": {
        "id": "view-in-github",
        "colab_type": "text"
      },
      "source": [
        "<a href=\"https://colab.research.google.com/github/yuvalgrossman/EquSolve/blob/master/EquSolverIntro.ipynb\" target=\"_parent\"><img src=\"https://colab.research.google.com/assets/colab-badge.svg\" alt=\"Open In Colab\"/></a>"
      ]
    },
    {
      "cell_type": "markdown",
      "metadata": {
        "id": "7YkAlHwhR7Rl",
        "colab_type": "text"
      },
      "source": [
        "# EquSolver\n",
        "Hand written equation solver"
      ]
    },
    {
      "cell_type": "markdown",
      "metadata": {
        "id": "_RNM_YaASIVZ",
        "colab_type": "text"
      },
      "source": [
        "# Intro\n",
        "This project is tend to scan hand written equations from a hardcopy paper. \n",
        "There are 2 main steps: \n",
        "1. Recognize the equation\n",
        "2. Solve it using symbolic solver\n",
        "\n",
        "The first mission consists of symbols and numbers detection and combining them in the right way. \n",
        "\n",
        "The detection could be addressed by using relatively simple computer vision techniques to seperate the symbols and then use a simple machine learning model to recognize which symbol are there. \n",
        "Another approche would be to directly train convolutional neural network of a suitable architecture for object detection (we can use detectron or YOLO for that). "
      ]
    },
    {
      "cell_type": "markdown",
      "metadata": {
        "id": "pvW9k1pgBu7S",
        "colab_type": "text"
      },
      "source": [
        "# Benchmarks\n",
        "There are 3 levels we hope to get to:\n",
        "### Basic operations:\n",
        "1. recognizing digits\n",
        "2. combining digits to numbers\n",
        "3. recognizing basic operations signs (-+/x*^ sqrt)\n",
        "4. computing basic operations consisting of numbers and basic operations \n",
        "\n",
        "### Algebraic equations:\n",
        "5. recognizing letters as variables\n",
        "6. solving single variable equation\n",
        "7. solving multiple variables equations\n",
        "8. recognizing basic functions (trigo, log) and solving such equations\n",
        "\n",
        "### Differential equations:\n",
        "9. recognizing differential operators (integrals, differentials)\n",
        "10. compute differential operations\n",
        "11. solving differential equations! \n"
      ]
    },
    {
      "cell_type": "markdown",
      "metadata": {
        "id": "FgKKPphRVjEH",
        "colab_type": "text"
      },
      "source": [
        "# Data"
      ]
    },
    {
      "cell_type": "markdown",
      "metadata": {
        "id": "kmrJw98KEk6Q",
        "colab_type": "text"
      },
      "source": [
        ""
      ]
    },
    {
      "cell_type": "code",
      "metadata": {
        "id": "H8_m2IwrR06Q",
        "colab_type": "code",
        "colab": {
          "base_uri": "https://localhost:8080/",
          "height": 102
        },
        "outputId": "a7710d8f-d66d-4620-ed03-d6a60b9a9c51"
      },
      "source": [
        "!git clone https://github.com/ThomasLech/CROHME_extractor\n",
        "# check the kaggle dataset and the owner blog:\n",
        "# https://www.kaggle.com/xainano/handwrittenmathsymbols?select=data.rar\n",
        "# https://blog.mathocr.com/2017/06/09/handwritten-character-segmentation.html"
      ],
      "execution_count": null,
      "outputs": [
        {
          "output_type": "stream",
          "text": [
            "Cloning into 'CROHME_extractor'...\n",
            "remote: Enumerating objects: 215, done.\u001b[K\n",
            "remote: Total 215 (delta 0), reused 0 (delta 0), pack-reused 215\u001b[K\n",
            "Receiving objects: 100% (215/215), 59.17 MiB | 34.68 MiB/s, done.\n",
            "Resolving deltas: 100% (112/112), done.\n"
          ],
          "name": "stdout"
        }
      ]
    },
    {
      "cell_type": "code",
      "metadata": {
        "id": "S0J0Tw_WSFXI",
        "colab_type": "code",
        "colab": {
          "base_uri": "https://localhost:8080/",
          "height": 80
        },
        "outputId": "42ca8ffa-fcc6-48de-ef47-1ed82bde4f3d"
      },
      "source": [
        "!unzip CROHME_extractor/data/CROHME_full_v2.zip"
      ],
      "execution_count": null,
      "outputs": [
        {
          "output_type": "stream",
          "text": [
            "Archive:  CROHME_extractor/data/CROHME_full_v2.zip\n",
            "replace CROHME_full_v2/crohme.css? [y]es, [n]o, [A]ll, [N]one, [r]ename: "
          ],
          "name": "stdout"
        }
      ]
    },
    {
      "cell_type": "code",
      "metadata": {
        "id": "jsJv2Er5Vr2j",
        "colab_type": "code",
        "colab": {
          "base_uri": "https://localhost:8080/",
          "height": 163
        },
        "outputId": "0e9e445c-407a-4363-e116-0d6c515cb779"
      },
      "source": [
        ""
      ],
      "execution_count": null,
      "outputs": [
        {
          "output_type": "error",
          "ename": "NameError",
          "evalue": "ignored",
          "traceback": [
            "\u001b[0;31m---------------------------------------------------------------------------\u001b[0m",
            "\u001b[0;31mNameError\u001b[0m                                 Traceback (most recent call last)",
            "\u001b[0;32m<ipython-input-8-b04b921848b3>\u001b[0m in \u001b[0;36m<module>\u001b[0;34m()\u001b[0m\n\u001b[0;32m----> 1\u001b[0;31m \u001b[0mxainano\u001b[0m\u001b[0;34m/\u001b[0m\u001b[0mhandwrittenmathsymbols\u001b[0m\u001b[0;34m\u001b[0m\u001b[0;34m\u001b[0m\u001b[0m\n\u001b[0m",
            "\u001b[0;31mNameError\u001b[0m: name 'xainano' is not defined"
          ]
        }
      ]
    },
    {
      "cell_type": "code",
      "metadata": {
        "id": "b90noBiRVwaQ",
        "colab_type": "code",
        "colab": {}
      },
      "source": [
        "!pip install kaggle\n",
        "api_token = {\"username\":\"USERNAME\",\"key\":\"API_KEY\"}\n",
        "import json\n",
        "import zipfile\n",
        "import os\n",
        "with open('/content/.kaggle/kaggle.json', 'w') as file:\n",
        "    json.dump(api_token, file)\n",
        "!chmod 600 /content/.kaggle/kaggle.json\n",
        "!kaggle config path -p /content\n",
        "!kaggle competitions download -c jigsaw-toxic-comment-classification-challenge\n",
        "os.chdir('/content/competitions/jigsaw-toxic-comment-classification-challenge')\n",
        "for file in os.listdir():\n",
        "    zip_ref = zipfile.ZipFile(file, 'r')\n",
        "    zip_ref.extractall()\n",
        "    zip_ref.close()"
      ],
      "execution_count": null,
      "outputs": []
    }
  ]
}